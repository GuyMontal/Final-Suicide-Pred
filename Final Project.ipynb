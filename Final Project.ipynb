{
 "cells": [
  {
   "cell_type": "markdown",
   "metadata": {},
   "source": [
    "# Suicides in the world - Final project\n",
    "\n",
    "Alina Eliovich 205947443 , Guy Montal 203319991\n",
    "\n"
   ]
  },
  {
   "cell_type": "markdown",
   "metadata": {},
   "source": [
    "# introduction\n",
    "\n",
    "In our project we will try to evaluate which feature has the most impact on the number of suicides."
   ]
  },
  {
   "cell_type": "markdown",
   "metadata": {},
   "source": [
    "# The Variables in the data are:\n",
    "\n",
    "*\t country \n",
    "*\t year : from 1985 - 2016\n",
    "*\t sex : male or female\n",
    "*\t age : grouped age (15-24, 25-34, 35-54, 54-74, 75+)\n",
    "*\t suicides_no : suicides count\n",
    "*\t population : number of people who was residents in the country at this year\n",
    "*\t suicides/100k pop : suicides count rescale\n",
    "*\t country-year : country with year combine\n",
    "*\t HDI for year : Human Development Index, the higher the better\n",
    "*\t gdp_for_year : Gross Domestic Product\n",
    "*\t gdp_per_capita : Gross Domestic Product rescale\n",
    "*\t generation"
   ]
  },
  {
   "cell_type": "code",
   "execution_count": 1,
   "metadata": {},
   "outputs": [],
   "source": [
    "import pandas as pd\n",
    "import numpy as np\n",
    "from sklearn.metrics import accuracy_score\n",
    "from sklearn.model_selection import train_test_split\n",
    "import matplotlib.pyplot as plt\n",
    "import matplotlib\n",
    "import seaborn as sns"
   ]
  },
  {
   "cell_type": "markdown",
   "metadata": {},
   "source": [
    "#  Data set:"
   ]
  },
  {
   "cell_type": "code",
   "execution_count": 2,
   "metadata": {},
   "outputs": [],
   "source": [
    "#read the data frame And adjust a pisky coulomn, The variable 'gdp_for_year' should have numeric data type,\n",
    "#but in here this variable have an object data type, we could have removed it in the Feature Encoding section, \n",
    "#but we learned this cool trick, so we added this below.\n",
    "s_data = pd.read_csv(\"Suicide cases 1985-2016.csv\",thousands=',')"
   ]
  },
  {
   "cell_type": "code",
   "execution_count": 3,
   "metadata": {},
   "outputs": [
    {
     "data": {
      "text/html": [
       "<div>\n",
       "<style scoped>\n",
       "    .dataframe tbody tr th:only-of-type {\n",
       "        vertical-align: middle;\n",
       "    }\n",
       "\n",
       "    .dataframe tbody tr th {\n",
       "        vertical-align: top;\n",
       "    }\n",
       "\n",
       "    .dataframe thead th {\n",
       "        text-align: right;\n",
       "    }\n",
       "</style>\n",
       "<table border=\"1\" class=\"dataframe\">\n",
       "  <thead>\n",
       "    <tr style=\"text-align: right;\">\n",
       "      <th></th>\n",
       "      <th>country</th>\n",
       "      <th>year</th>\n",
       "      <th>sex</th>\n",
       "      <th>age</th>\n",
       "      <th>suicides_no</th>\n",
       "      <th>population</th>\n",
       "      <th>suicides/100k pop</th>\n",
       "      <th>country-year</th>\n",
       "      <th>HDI for year</th>\n",
       "      <th>gdp_for_year ($)</th>\n",
       "      <th>gdp_per_capita ($)</th>\n",
       "      <th>generation</th>\n",
       "    </tr>\n",
       "  </thead>\n",
       "  <tbody>\n",
       "    <tr>\n",
       "      <th>0</th>\n",
       "      <td>Albania</td>\n",
       "      <td>1987</td>\n",
       "      <td>male</td>\n",
       "      <td>15-24 years</td>\n",
       "      <td>21</td>\n",
       "      <td>312900</td>\n",
       "      <td>6.71</td>\n",
       "      <td>Albania1987</td>\n",
       "      <td>NaN</td>\n",
       "      <td>2156624900</td>\n",
       "      <td>796</td>\n",
       "      <td>Generation X</td>\n",
       "    </tr>\n",
       "    <tr>\n",
       "      <th>1</th>\n",
       "      <td>Albania</td>\n",
       "      <td>1987</td>\n",
       "      <td>male</td>\n",
       "      <td>35-54 years</td>\n",
       "      <td>16</td>\n",
       "      <td>308000</td>\n",
       "      <td>5.19</td>\n",
       "      <td>Albania1987</td>\n",
       "      <td>NaN</td>\n",
       "      <td>2156624900</td>\n",
       "      <td>796</td>\n",
       "      <td>Silent</td>\n",
       "    </tr>\n",
       "    <tr>\n",
       "      <th>2</th>\n",
       "      <td>Albania</td>\n",
       "      <td>1987</td>\n",
       "      <td>female</td>\n",
       "      <td>15-24 years</td>\n",
       "      <td>14</td>\n",
       "      <td>289700</td>\n",
       "      <td>4.83</td>\n",
       "      <td>Albania1987</td>\n",
       "      <td>NaN</td>\n",
       "      <td>2156624900</td>\n",
       "      <td>796</td>\n",
       "      <td>Generation X</td>\n",
       "    </tr>\n",
       "    <tr>\n",
       "      <th>3</th>\n",
       "      <td>Albania</td>\n",
       "      <td>1987</td>\n",
       "      <td>male</td>\n",
       "      <td>75+ years</td>\n",
       "      <td>1</td>\n",
       "      <td>21800</td>\n",
       "      <td>4.59</td>\n",
       "      <td>Albania1987</td>\n",
       "      <td>NaN</td>\n",
       "      <td>2156624900</td>\n",
       "      <td>796</td>\n",
       "      <td>G.I. Generation</td>\n",
       "    </tr>\n",
       "    <tr>\n",
       "      <th>4</th>\n",
       "      <td>Albania</td>\n",
       "      <td>1987</td>\n",
       "      <td>male</td>\n",
       "      <td>25-34 years</td>\n",
       "      <td>9</td>\n",
       "      <td>274300</td>\n",
       "      <td>3.28</td>\n",
       "      <td>Albania1987</td>\n",
       "      <td>NaN</td>\n",
       "      <td>2156624900</td>\n",
       "      <td>796</td>\n",
       "      <td>Boomers</td>\n",
       "    </tr>\n",
       "  </tbody>\n",
       "</table>\n",
       "</div>"
      ],
      "text/plain": [
       "   country  year     sex          age  suicides_no  population  \\\n",
       "0  Albania  1987    male  15-24 years           21      312900   \n",
       "1  Albania  1987    male  35-54 years           16      308000   \n",
       "2  Albania  1987  female  15-24 years           14      289700   \n",
       "3  Albania  1987    male    75+ years            1       21800   \n",
       "4  Albania  1987    male  25-34 years            9      274300   \n",
       "\n",
       "   suicides/100k pop country-year  HDI for year   gdp_for_year ($)   \\\n",
       "0               6.71  Albania1987           NaN          2156624900   \n",
       "1               5.19  Albania1987           NaN          2156624900   \n",
       "2               4.83  Albania1987           NaN          2156624900   \n",
       "3               4.59  Albania1987           NaN          2156624900   \n",
       "4               3.28  Albania1987           NaN          2156624900   \n",
       "\n",
       "   gdp_per_capita ($)       generation  \n",
       "0                 796     Generation X  \n",
       "1                 796           Silent  \n",
       "2                 796     Generation X  \n",
       "3                 796  G.I. Generation  \n",
       "4                 796          Boomers  "
      ]
     },
     "execution_count": 3,
     "metadata": {},
     "output_type": "execute_result"
    }
   ],
   "source": [
    "s_data.head()"
   ]
  },
  {
   "cell_type": "code",
   "execution_count": 4,
   "metadata": {
    "scrolled": true
   },
   "outputs": [
    {
     "data": {
      "text/plain": [
       "country                object\n",
       "year                    int64\n",
       "sex                    object\n",
       "age                    object\n",
       "suicides_no             int64\n",
       "population              int64\n",
       "suicides/100k pop     float64\n",
       "country-year           object\n",
       "HDI for year          float64\n",
       " gdp_for_year ($)       int64\n",
       "gdp_per_capita ($)      int64\n",
       "generation             object\n",
       "dtype: object"
      ]
     },
     "execution_count": 4,
     "metadata": {},
     "output_type": "execute_result"
    }
   ],
   "source": [
    "s_data.dtypes"
   ]
  },
  {
   "cell_type": "markdown",
   "metadata": {},
   "source": [
    "If you look closely, We can see an inconsistency with the variable 'gdp_for_year' that has leading and trailing whitespaces. We clean this up using the lamba and strip() functions."
   ]
  },
  {
   "cell_type": "code",
   "execution_count": 5,
   "metadata": {},
   "outputs": [
    {
     "data": {
      "text/plain": [
       "Index(['country', 'year', 'sex', 'age', 'suicides_no', 'population',\n",
       "       'suicides/100k pop', 'country-year', 'HDI for year', 'gdp_for_year ($)',\n",
       "       'gdp_per_capita ($)', 'generation'],\n",
       "      dtype='object')"
      ]
     },
     "execution_count": 5,
     "metadata": {},
     "output_type": "execute_result"
    }
   ],
   "source": [
    "s_data.rename(columns=lambda x: x.strip(), inplace=True)\n",
    "s_data.columns"
   ]
  },
  {
   "cell_type": "markdown",
   "metadata": {},
   "source": [
    "#### Missing values&irrelevant values:"
   ]
  },
  {
   "cell_type": "markdown",
   "metadata": {},
   "source": [
    "We also see that the columns country-year is just a combination of the Year and Country columns, therefore we'll remove it.\n",
    "we also suspect that the column 'HDI for year' has some missing values, we'll check that too. "
   ]
  },
  {
   "cell_type": "code",
   "execution_count": 6,
   "metadata": {},
   "outputs": [
    {
     "data": {
      "text/plain": [
       "country                   0\n",
       "year                      0\n",
       "sex                       0\n",
       "age                       0\n",
       "suicides_no               0\n",
       "population                0\n",
       "suicides/100k pop         0\n",
       "country-year              0\n",
       "HDI for year          19456\n",
       "gdp_for_year ($)          0\n",
       "gdp_per_capita ($)        0\n",
       "generation                0\n",
       "dtype: int64"
      ]
     },
     "execution_count": 6,
     "metadata": {},
     "output_type": "execute_result"
    }
   ],
   "source": [
    "s_data.isnull().sum()"
   ]
  },
  {
   "cell_type": "markdown",
   "metadata": {},
   "source": [
    "19,456 missing values out of 27,820 in total is way too much, we can't replace this amount from our sources, so we decide to remove it too."
   ]
  },
  {
   "cell_type": "code",
   "execution_count": 7,
   "metadata": {},
   "outputs": [],
   "source": [
    "s_data.drop(['HDI for year','country-year'],axis=1,inplace=True)\n"
   ]
  },
  {
   "cell_type": "code",
   "execution_count": 8,
   "metadata": {},
   "outputs": [
    {
     "data": {
      "text/html": [
       "<div>\n",
       "<style scoped>\n",
       "    .dataframe tbody tr th:only-of-type {\n",
       "        vertical-align: middle;\n",
       "    }\n",
       "\n",
       "    .dataframe tbody tr th {\n",
       "        vertical-align: top;\n",
       "    }\n",
       "\n",
       "    .dataframe thead th {\n",
       "        text-align: right;\n",
       "    }\n",
       "</style>\n",
       "<table border=\"1\" class=\"dataframe\">\n",
       "  <thead>\n",
       "    <tr style=\"text-align: right;\">\n",
       "      <th></th>\n",
       "      <th>country</th>\n",
       "      <th>year</th>\n",
       "      <th>sex</th>\n",
       "      <th>age</th>\n",
       "      <th>suicides_no</th>\n",
       "      <th>population</th>\n",
       "      <th>suicides/100k pop</th>\n",
       "      <th>gdp_for_year ($)</th>\n",
       "      <th>gdp_per_capita ($)</th>\n",
       "      <th>generation</th>\n",
       "    </tr>\n",
       "  </thead>\n",
       "  <tbody>\n",
       "    <tr>\n",
       "      <th>0</th>\n",
       "      <td>Albania</td>\n",
       "      <td>1987</td>\n",
       "      <td>male</td>\n",
       "      <td>15-24 years</td>\n",
       "      <td>21</td>\n",
       "      <td>312900</td>\n",
       "      <td>6.71</td>\n",
       "      <td>2156624900</td>\n",
       "      <td>796</td>\n",
       "      <td>Generation X</td>\n",
       "    </tr>\n",
       "    <tr>\n",
       "      <th>1</th>\n",
       "      <td>Albania</td>\n",
       "      <td>1987</td>\n",
       "      <td>male</td>\n",
       "      <td>35-54 years</td>\n",
       "      <td>16</td>\n",
       "      <td>308000</td>\n",
       "      <td>5.19</td>\n",
       "      <td>2156624900</td>\n",
       "      <td>796</td>\n",
       "      <td>Silent</td>\n",
       "    </tr>\n",
       "    <tr>\n",
       "      <th>2</th>\n",
       "      <td>Albania</td>\n",
       "      <td>1987</td>\n",
       "      <td>female</td>\n",
       "      <td>15-24 years</td>\n",
       "      <td>14</td>\n",
       "      <td>289700</td>\n",
       "      <td>4.83</td>\n",
       "      <td>2156624900</td>\n",
       "      <td>796</td>\n",
       "      <td>Generation X</td>\n",
       "    </tr>\n",
       "    <tr>\n",
       "      <th>3</th>\n",
       "      <td>Albania</td>\n",
       "      <td>1987</td>\n",
       "      <td>male</td>\n",
       "      <td>75+ years</td>\n",
       "      <td>1</td>\n",
       "      <td>21800</td>\n",
       "      <td>4.59</td>\n",
       "      <td>2156624900</td>\n",
       "      <td>796</td>\n",
       "      <td>G.I. Generation</td>\n",
       "    </tr>\n",
       "    <tr>\n",
       "      <th>4</th>\n",
       "      <td>Albania</td>\n",
       "      <td>1987</td>\n",
       "      <td>male</td>\n",
       "      <td>25-34 years</td>\n",
       "      <td>9</td>\n",
       "      <td>274300</td>\n",
       "      <td>3.28</td>\n",
       "      <td>2156624900</td>\n",
       "      <td>796</td>\n",
       "      <td>Boomers</td>\n",
       "    </tr>\n",
       "  </tbody>\n",
       "</table>\n",
       "</div>"
      ],
      "text/plain": [
       "   country  year     sex          age  suicides_no  population  \\\n",
       "0  Albania  1987    male  15-24 years           21      312900   \n",
       "1  Albania  1987    male  35-54 years           16      308000   \n",
       "2  Albania  1987  female  15-24 years           14      289700   \n",
       "3  Albania  1987    male    75+ years            1       21800   \n",
       "4  Albania  1987    male  25-34 years            9      274300   \n",
       "\n",
       "   suicides/100k pop  gdp_for_year ($)  gdp_per_capita ($)       generation  \n",
       "0               6.71        2156624900                 796     Generation X  \n",
       "1               5.19        2156624900                 796           Silent  \n",
       "2               4.83        2156624900                 796     Generation X  \n",
       "3               4.59        2156624900                 796  G.I. Generation  \n",
       "4               3.28        2156624900                 796          Boomers  "
      ]
     },
     "execution_count": 8,
     "metadata": {},
     "output_type": "execute_result"
    }
   ],
   "source": [
    "s_data.head()"
   ]
  },
  {
   "cell_type": "markdown",
   "metadata": {},
   "source": [
    "# Visualization of Data\n",
    "We visualize data to uncover hidden patterns if any in the dataset"
   ]
  },
  {
   "cell_type": "markdown",
   "metadata": {},
   "source": [
    "In order to start visualize our data and normallize for data mining, we will make a copy of our dataset for our convenience:"
   ]
  },
  {
   "cell_type": "code",
   "execution_count": 9,
   "metadata": {},
   "outputs": [],
   "source": [
    "df = s_data.copy()"
   ]
  },
  {
   "cell_type": "markdown",
   "metadata": {},
   "source": [
    "### Feature Encoding\n",
    "\n",
    "Feature Encoding is important because We have to encode the values in such way that we can make numeric calculations on Object data type, it will also be crucial for our future classifier "
   ]
  },
  {
   "cell_type": "code",
   "execution_count": 10,
   "metadata": {},
   "outputs": [],
   "source": [
    "age_coder = {'5-14 years':0,\n",
    "            '15-24 years':1,\n",
    "            '25-34 years':2,\n",
    "            '35-54 years':3,\n",
    "            '55-74 years':4,\n",
    "            '75+ years':5}\n",
    "age = {0:'5-14 years',\n",
    "      1:'15-24 years',\n",
    "      2:'25-34 years',\n",
    "      3:'35-54 years',\n",
    "      4:'55-74 years',\n",
    "      5:'75+ years'}\n",
    "gender = {0:'female',1:'male'}\n",
    "\n",
    "gender_coder = {'female':0,'male':1}\n",
    "\n",
    "df['age_encoder'] = df['age'].map(age_coder)\n",
    "df['sex_encoder'] = df['sex'].map(gender_coder)"
   ]
  },
  {
   "cell_type": "markdown",
   "metadata": {},
   "source": [
    "### Lets have a look about the diversity in the group ages:"
   ]
  },
  {
   "cell_type": "code",
   "execution_count": 11,
   "metadata": {},
   "outputs": [],
   "source": [
    "s_df = df.groupby('age_encoder')[['suicides_no']].sum()"
   ]
  },
  {
   "cell_type": "code",
   "execution_count": 12,
   "metadata": {
    "scrolled": true
   },
   "outputs": [
    {
     "name": "stderr",
     "output_type": "stream",
     "text": [
      "C:\\Users\\Aline\\Anaconda3\\lib\\site-packages\\scipy\\stats\\stats.py:1713: FutureWarning: Using a non-tuple sequence for multidimensional indexing is deprecated; use `arr[tuple(seq)]` instead of `arr[seq]`. In the future this will be interpreted as an array index, `arr[np.array(seq)]`, which will result either in an error or a different result.\n",
      "  return np.add.reduce(sorted[indexer] * weights, axis=axis) / sumval\n"
     ]
    },
    {
     "data": {
      "text/plain": [
       "Text(0, 0.5, 'Number of Suicide')"
      ]
     },
     "execution_count": 12,
     "metadata": {},
     "output_type": "execute_result"
    },
    {
     "data": {
      "image/png": "[encoded data removed]",
      "text/plain": [
       "<Figure size 864x360 with 1 Axes>"
      ]
     },
     "metadata": {
      "needs_background": "light"
     },
     "output_type": "display_data"
    }
   ],
   "source": [
    "plt.figure(figsize=(12,5))\n",
    "sns.barplot(x=df.age_encoder,y=df.suicides_no)\n",
    "plt.title(\"Total Suicides scaled in Age group\")\n",
    "plt.xlabel(\"Age Group\")\n",
    "plt.ylabel(\"Number of Suicide\")"
   ]
  },
  {
   "cell_type": "markdown",
   "metadata": {},
   "source": [
    "### The most common age to commit suicide is between the ages of 35 to 54 (group 3)"
   ]
  },
  {
   "cell_type": "code",
   "execution_count": 13,
   "metadata": {},
   "outputs": [
    {
     "data": {
      "text/plain": [
       "Generation X       6408\n",
       "Silent             6364\n",
       "Millenials         5844\n",
       "Boomers            4990\n",
       "G.I. Generation    2744\n",
       "Generation Z       1470\n",
       "Name: generation, dtype: int64"
      ]
     },
     "execution_count": 13,
     "metadata": {},
     "output_type": "execute_result"
    }
   ],
   "source": [
    "generation_coder = {'G.I. Generation':0,\n",
    "               'Silent':1,\n",
    "               'Boomers':2, \n",
    "               'Generation X':3,\n",
    "               'Millenials':4,\n",
    "               'Generation Z':5}\n",
    "\n",
    "df['generation_encoder'] = df['generation'].map(generation_coder)\n",
    "\n",
    "df[\"generation\"].value_counts()"
   ]
  },
  {
   "cell_type": "markdown",
   "metadata": {},
   "source": [
    "### Lets have a look about the diversity in the Generation group:"
   ]
  },
  {
   "cell_type": "code",
   "execution_count": 14,
   "metadata": {},
   "outputs": [
    {
     "data": {
      "image/png": "[encoded data removed]",
      "text/plain": [
       "<Figure size 432x288 with 1 Axes>"
      ]
     },
     "metadata": {
      "needs_background": "light"
     },
     "output_type": "display_data"
    }
   ],
   "source": [
    "sns.barplot(x=df.generation.value_counts().index,y=df.generation.value_counts().values)\n",
    "plt.xlabel('generation')\n",
    "plt.ylabel('Frequency')\n",
    "plt.title('Show of generation Bar Plot')\n",
    "plt.show()"
   ]
  },
  {
   "cell_type": "markdown",
   "metadata": {},
   "source": [
    "### Generation X and Silent generations are highest on the list of suicide cases."
   ]
  },
  {
   "cell_type": "code",
   "execution_count": 15,
   "metadata": {},
   "outputs": [
    {
     "data": {
      "image/png": "[encoded data removed]",
      "text/plain": [
       "<Figure size 432x288 with 1 Axes>"
      ]
     },
     "metadata": {
      "needs_background": "light"
     },
     "output_type": "display_data"
    }
   ],
   "source": [
    "sns.barplot(x='sex' ,y='suicides_no', data=df)\n",
    "plt.title('Data by sex')\n",
    "plt.show()"
   ]
  },
  {
   "cell_type": "markdown",
   "metadata": {},
   "source": [
    "### In this chart we can see men commit suicide a lot more than women\n",
    "\n",
    "On a side note,it's intresting how many of those cases are homicide–suicide like so many stories we hear, mostly about a woman that has been killed by her husband and then he commited suicide. "
   ]
  },
  {
   "cell_type": "code",
   "execution_count": 16,
   "metadata": {},
   "outputs": [
    {
     "data": {
      "image/png": "[encoded data removed]",
      "text/plain": [
       "<Figure size 432x288 with 1 Axes>"
      ]
     },
     "metadata": {
      "needs_background": "light"
     },
     "output_type": "display_data"
    }
   ],
   "source": [
    "bar_age = sns.barplot(x='sex',y='suicides_no',hue='age',data=df)"
   ]
  },
  {
   "cell_type": "code",
   "execution_count": 17,
   "metadata": {},
   "outputs": [
    {
     "data": {
      "image/png": "[encoded data removed]",
      "text/plain": [
       "<Figure size 432x288 with 1 Axes>"
      ]
     },
     "metadata": {
      "needs_background": "light"
     },
     "output_type": "display_data"
    }
   ],
   "source": [
    "bar_age = sns.barplot(x='sex',y='suicides/100k pop',hue='age',data=df)"
   ]
  },
  {
   "cell_type": "markdown",
   "metadata": {},
   "source": [
    "### Men and women in the group age of 75+ commit suicide more when you take the population at account, if you check only raw numbers of suicides per ages we get what we got on the first visualization.\n",
    "\n",
    "We have a diffrence when we change the features suicides_no to suicides/100k pop, the 'suicides/100k pop' is a normalized feature, it describe the number of suicides in the spesific Generation, Age group and Sex and divide them by 100k population, this special ratio is very good for comparisons as we see here."
   ]
  },
  {
   "cell_type": "code",
   "execution_count": 18,
   "metadata": {},
   "outputs": [
    {
     "data": {
      "image/png": "[encoded data removed]",
      "text/plain": [
       "<Figure size 720x1080 with 1 Axes>"
      ]
     },
     "metadata": {
      "needs_background": "light"
     },
     "output_type": "display_data"
    }
   ],
   "source": [
    "plt.figure(figsize=(10,15))\n",
    "sns.countplot(y='country', data=df)\n",
    "plt.title('Data by country')\n",
    "plt.show()"
   ]
  },
  {
   "cell_type": "markdown",
   "metadata": {},
   "source": [
    "### In this chart we can see how many cases are in the data-set per country.\n",
    "\n",
    "Notice the low information/cases in some countries like : Macau, Mongolia, Dominica, Cabo Verde."
   ]
  },
  {
   "cell_type": "code",
   "execution_count": 19,
   "metadata": {},
   "outputs": [
    {
     "data": {
      "image/png": "[encoded data removed]",
      "text/plain": [
       "<Figure size 432x288 with 1 Axes>"
      ]
     },
     "metadata": {
      "needs_background": "light"
     },
     "output_type": "display_data"
    }
   ],
   "source": [
    "df.groupby(['country']).suicides_no.agg('sum').nlargest(10).plot(kind='barh')\n",
    "plt.xlabel(' Suicides_no', size=20)\n",
    "plt.ylabel('Country', fontsize=20);"
   ]
  },
  {
   "cell_type": "markdown",
   "metadata": {},
   "source": [
    "### Russia and United States are the Leading in suicide cases when japan is not far behind in numbers."
   ]
  },
  {
   "cell_type": "code",
   "execution_count": 20,
   "metadata": {},
   "outputs": [
    {
     "data": {
      "text/plain": [
       "[<matplotlib.lines.Line2D at 0x174d643c080>]"
      ]
     },
     "execution_count": 20,
     "metadata": {},
     "output_type": "execute_result"
    },
    {
     "data": {
      "image/png": "[encoded data removed]",
      "text/plain": [
       "<Figure size 432x288 with 1 Axes>"
      ]
     },
     "metadata": {
      "needs_background": "light"
     },
     "output_type": "display_data"
    }
   ],
   "source": [
    "year = df.groupby(['year']).suicides_no.agg('sum')\n",
    "plt.plot(year)"
   ]
  },
  {
   "cell_type": "markdown",
   "metadata": {},
   "source": [
    "### We probably see the drop because the year haven't finished - So we will drop all the data from that year."
   ]
  },
  {
   "cell_type": "code",
   "execution_count": 21,
   "metadata": {},
   "outputs": [],
   "source": [
    "df = df[df.year != 2016]"
   ]
  },
  {
   "cell_type": "markdown",
   "metadata": {},
   "source": [
    "## Calculating the correlation matrix:"
   ]
  },
  {
   "cell_type": "code",
   "execution_count": 22,
   "metadata": {},
   "outputs": [
    {
     "data": {
      "text/html": [
       "<div>\n",
       "<style scoped>\n",
       "    .dataframe tbody tr th:only-of-type {\n",
       "        vertical-align: middle;\n",
       "    }\n",
       "\n",
       "    .dataframe tbody tr th {\n",
       "        vertical-align: top;\n",
       "    }\n",
       "\n",
       "    .dataframe thead th {\n",
       "        text-align: right;\n",
       "    }\n",
       "</style>\n",
       "<table border=\"1\" class=\"dataframe\">\n",
       "  <thead>\n",
       "    <tr style=\"text-align: right;\">\n",
       "      <th></th>\n",
       "      <th>year</th>\n",
       "      <th>suicides_no</th>\n",
       "      <th>population</th>\n",
       "      <th>suicides/100k pop</th>\n",
       "      <th>gdp_for_year ($)</th>\n",
       "      <th>gdp_per_capita ($)</th>\n",
       "      <th>age_encoder</th>\n",
       "      <th>sex_encoder</th>\n",
       "      <th>generation_encoder</th>\n",
       "    </tr>\n",
       "  </thead>\n",
       "  <tbody>\n",
       "    <tr>\n",
       "      <th>year</th>\n",
       "      <td>1.000000</td>\n",
       "      <td>-0.002953</td>\n",
       "      <td>0.011583</td>\n",
       "      <td>-0.039800</td>\n",
       "      <td>9.721988e-02</td>\n",
       "      <td>3.388544e-01</td>\n",
       "      <td>0.000000e+00</td>\n",
       "      <td>0.000000e+00</td>\n",
       "      <td>3.456830e-01</td>\n",
       "    </tr>\n",
       "    <tr>\n",
       "      <th>suicides_no</th>\n",
       "      <td>-0.002953</td>\n",
       "      <td>1.000000</td>\n",
       "      <td>0.616105</td>\n",
       "      <td>0.307103</td>\n",
       "      <td>4.300113e-01</td>\n",
       "      <td>6.216802e-02</td>\n",
       "      <td>8.026344e-02</td>\n",
       "      <td>1.447295e-01</td>\n",
       "      <td>-7.153050e-02</td>\n",
       "    </tr>\n",
       "    <tr>\n",
       "      <th>population</th>\n",
       "      <td>0.011583</td>\n",
       "      <td>0.616105</td>\n",
       "      <td>1.000000</td>\n",
       "      <td>0.008461</td>\n",
       "      <td>7.108339e-01</td>\n",
       "      <td>8.300605e-02</td>\n",
       "      <td>-6.038592e-02</td>\n",
       "      <td>-1.125721e-02</td>\n",
       "      <td>5.964161e-02</td>\n",
       "    </tr>\n",
       "    <tr>\n",
       "      <th>suicides/100k pop</th>\n",
       "      <td>-0.039800</td>\n",
       "      <td>0.307103</td>\n",
       "      <td>0.008461</td>\n",
       "      <td>1.000000</td>\n",
       "      <td>2.533403e-02</td>\n",
       "      <td>2.014606e-03</td>\n",
       "      <td>3.630638e-01</td>\n",
       "      <td>3.909192e-01</td>\n",
       "      <td>-3.360715e-01</td>\n",
       "    </tr>\n",
       "    <tr>\n",
       "      <th>gdp_for_year ($)</th>\n",
       "      <td>0.097220</td>\n",
       "      <td>0.430011</td>\n",
       "      <td>0.710834</td>\n",
       "      <td>0.025334</td>\n",
       "      <td>1.000000e+00</td>\n",
       "      <td>3.048131e-01</td>\n",
       "      <td>2.269350e-19</td>\n",
       "      <td>0.000000e+00</td>\n",
       "      <td>3.412874e-02</td>\n",
       "    </tr>\n",
       "    <tr>\n",
       "      <th>gdp_per_capita ($)</th>\n",
       "      <td>0.338854</td>\n",
       "      <td>0.062168</td>\n",
       "      <td>0.083006</td>\n",
       "      <td>0.002015</td>\n",
       "      <td>3.048131e-01</td>\n",
       "      <td>1.000000e+00</td>\n",
       "      <td>-5.716396e-19</td>\n",
       "      <td>7.879816e-19</td>\n",
       "      <td>1.163934e-01</td>\n",
       "    </tr>\n",
       "    <tr>\n",
       "      <th>age_encoder</th>\n",
       "      <td>0.000000</td>\n",
       "      <td>0.080263</td>\n",
       "      <td>-0.060386</td>\n",
       "      <td>0.363064</td>\n",
       "      <td>2.269350e-19</td>\n",
       "      <td>-5.716396e-19</td>\n",
       "      <td>1.000000e+00</td>\n",
       "      <td>0.000000e+00</td>\n",
       "      <td>-9.113722e-01</td>\n",
       "    </tr>\n",
       "    <tr>\n",
       "      <th>sex_encoder</th>\n",
       "      <td>0.000000</td>\n",
       "      <td>0.144729</td>\n",
       "      <td>-0.011257</td>\n",
       "      <td>0.390919</td>\n",
       "      <td>0.000000e+00</td>\n",
       "      <td>7.879816e-19</td>\n",
       "      <td>0.000000e+00</td>\n",
       "      <td>1.000000e+00</td>\n",
       "      <td>-8.573415e-19</td>\n",
       "    </tr>\n",
       "    <tr>\n",
       "      <th>generation_encoder</th>\n",
       "      <td>0.345683</td>\n",
       "      <td>-0.071531</td>\n",
       "      <td>0.059642</td>\n",
       "      <td>-0.336072</td>\n",
       "      <td>3.412874e-02</td>\n",
       "      <td>1.163934e-01</td>\n",
       "      <td>-9.113722e-01</td>\n",
       "      <td>-8.573415e-19</td>\n",
       "      <td>1.000000e+00</td>\n",
       "    </tr>\n",
       "  </tbody>\n",
       "</table>\n",
       "</div>"
      ],
      "text/plain": [
       "                        year  suicides_no  population  suicides/100k pop  \\\n",
       "year                1.000000    -0.002953    0.011583          -0.039800   \n",
       "suicides_no        -0.002953     1.000000    0.616105           0.307103   \n",
       "population          0.011583     0.616105    1.000000           0.008461   \n",
       "suicides/100k pop  -0.039800     0.307103    0.008461           1.000000   \n",
       "gdp_for_year ($)    0.097220     0.430011    0.710834           0.025334   \n",
       "gdp_per_capita ($)  0.338854     0.062168    0.083006           0.002015   \n",
       "age_encoder         0.000000     0.080263   -0.060386           0.363064   \n",
       "sex_encoder         0.000000     0.144729   -0.011257           0.390919   \n",
       "generation_encoder  0.345683    -0.071531    0.059642          -0.336072   \n",
       "\n",
       "                    gdp_for_year ($)  gdp_per_capita ($)   age_encoder  \\\n",
       "year                    9.721988e-02        3.388544e-01  0.000000e+00   \n",
       "suicides_no             4.300113e-01        6.216802e-02  8.026344e-02   \n",
       "population              7.108339e-01        8.300605e-02 -6.038592e-02   \n",
       "suicides/100k pop       2.533403e-02        2.014606e-03  3.630638e-01   \n",
       "gdp_for_year ($)        1.000000e+00        3.048131e-01  2.269350e-19   \n",
       "gdp_per_capita ($)      3.048131e-01        1.000000e+00 -5.716396e-19   \n",
       "age_encoder             2.269350e-19       -5.716396e-19  1.000000e+00   \n",
       "sex_encoder             0.000000e+00        7.879816e-19  0.000000e+00   \n",
       "generation_encoder      3.412874e-02        1.163934e-01 -9.113722e-01   \n",
       "\n",
       "                     sex_encoder  generation_encoder  \n",
       "year                0.000000e+00        3.456830e-01  \n",
       "suicides_no         1.447295e-01       -7.153050e-02  \n",
       "population         -1.125721e-02        5.964161e-02  \n",
       "suicides/100k pop   3.909192e-01       -3.360715e-01  \n",
       "gdp_for_year ($)    0.000000e+00        3.412874e-02  \n",
       "gdp_per_capita ($)  7.879816e-19        1.163934e-01  \n",
       "age_encoder         0.000000e+00       -9.113722e-01  \n",
       "sex_encoder         1.000000e+00       -8.573415e-19  \n",
       "generation_encoder -8.573415e-19        1.000000e+00  "
      ]
     },
     "execution_count": 22,
     "metadata": {},
     "output_type": "execute_result"
    }
   ],
   "source": [
    "df.corr()"
   ]
  },
  {
   "cell_type": "code",
   "execution_count": 23,
   "metadata": {},
   "outputs": [
    {
     "data": {
      "image/png": "[encoded data removed]",
      "text/plain": [
       "<Figure size 432x288 with 2 Axes>"
      ]
     },
     "metadata": {
      "needs_background": "light"
     },
     "output_type": "display_data"
    }
   ],
   "source": [
    "sns.heatmap(df.corr())\n",
    "plt.show()"
   ]
  },
  {
   "cell_type": "code",
   "execution_count": 24,
   "metadata": {},
   "outputs": [
    {
     "data": {
      "text/plain": [
       "array(['Albania', 'Antigua and Barbuda', 'Argentina', 'Armenia', 'Aruba',\n",
       "       'Australia', 'Austria', 'Azerbaijan', 'Bahamas', 'Bahrain',\n",
       "       'Barbados', 'Belarus', 'Belgium', 'Belize',\n",
       "       'Bosnia and Herzegovina', 'Brazil', 'Bulgaria', 'Cabo Verde',\n",
       "       'Canada', 'Chile', 'Colombia', 'Costa Rica', 'Croatia', 'Cuba',\n",
       "       'Cyprus', 'Czech Republic', 'Denmark', 'Dominica', 'Ecuador',\n",
       "       'El Salvador', 'Estonia', 'Fiji', 'Finland', 'France', 'Georgia',\n",
       "       'Germany', 'Greece', 'Grenada', 'Guatemala', 'Guyana', 'Hungary',\n",
       "       'Iceland', 'Ireland', 'Israel', 'Italy', 'Jamaica', 'Japan',\n",
       "       'Kazakhstan', 'Kiribati', 'Kuwait', 'Kyrgyzstan', 'Latvia',\n",
       "       'Lithuania', 'Luxembourg', 'Macau', 'Maldives', 'Malta',\n",
       "       'Mauritius', 'Mexico', 'Montenegro', 'Netherlands', 'New Zealand',\n",
       "       'Nicaragua', 'Norway', 'Oman', 'Panama', 'Paraguay', 'Philippines',\n",
       "       'Poland', 'Portugal', 'Puerto Rico', 'Qatar', 'Republic of Korea',\n",
       "       'Romania', 'Russian Federation', 'Saint Kitts and Nevis',\n",
       "       'Saint Lucia', 'Saint Vincent and Grenadines', 'San Marino',\n",
       "       'Serbia', 'Seychelles', 'Singapore', 'Slovakia', 'Slovenia',\n",
       "       'South Africa', 'Spain', 'Sri Lanka', 'Suriname', 'Sweden',\n",
       "       'Switzerland', 'Thailand', 'Trinidad and Tobago', 'Turkey',\n",
       "       'Turkmenistan', 'Ukraine', 'United Arab Emirates',\n",
       "       'United Kingdom', 'United States', 'Uruguay', 'Uzbekistan'],\n",
       "      dtype=object)"
      ]
     },
     "execution_count": 24,
     "metadata": {},
     "output_type": "execute_result"
    }
   ],
   "source": [
    "df['country'].unique()"
   ]
  },
  {
   "cell_type": "code",
   "execution_count": 25,
   "metadata": {},
   "outputs": [],
   "source": [
    "country_coder={'Albania':1, 'Antigua and Barbuda':2, 'Argentina':3, 'Armenia':4, 'Aruba':5,\n",
    "       'Australia':6, 'Austria':7, 'Azerbaijan':8, 'Bahamas':9, 'Bahrain':10,\n",
    "       'Barbados':11, 'Belarus':12, 'Belgium':13, 'Belize':14,\n",
    "       'Bosnia and Herzegovina':15, 'Brazil':16, 'Bulgaria':17, 'Cabo Verde':18,\n",
    "       'Canada':19, 'Chile':20, 'Colombia':21, 'Costa Rica':22, 'Croatia':23, 'Cuba':24,\n",
    "       'Cyprus':25, 'Czech Republic':26, 'Denmark':27, 'Dominica':28, 'Ecuador':29,\n",
    "       'El Salvador':30, 'Estonia':31, 'Fiji':32, 'Finland':33, 'France':34, 'Georgia':35,\n",
    "       'Germany':36, 'Greece':37, 'Grenada':38, 'Guatemala':39, 'Guyana':40, 'Hungary':41,\n",
    "       'Iceland':42, 'Ireland':43, 'Israel':44, 'Italy':45, 'Jamaica':46, 'Japan':47,\n",
    "       'Kazakhstan':47, 'Kiribati':49, 'Kuwait':50, 'Kyrgyzstan':51, 'Latvia':52,\n",
    "       'Lithuania':53, 'Luxembourg':54, 'Macau':55, 'Maldives':56, 'Malta':57,\n",
    "       'Mauritius':58, 'Mexico':59, 'Montenegro':60, 'Netherlands':61, 'New Zealand':62,\n",
    "       'Nicaragua':63, 'Norway':64, 'Oman':65, 'Panama':66, 'Paraguay':67, 'Philippines':68,\n",
    "       'Poland':69, 'Portugal':70, 'Puerto Rico':71, 'Qatar':72, 'Republic of Korea':73,\n",
    "       'Romania':74, 'Russian Federation':75, 'Saint Kitts and Nevis':76,\n",
    "       'Saint Lucia':77, 'Saint Vincent and Grenadines':78, 'San Marino':79,\n",
    "       'Serbia':80, 'Seychelles':81, 'Singapore':82, 'Slovakia':83, 'Slovenia':84,\n",
    "       'South Africa':85, 'Spain':86, 'Sri Lanka':87, 'Suriname':88, 'Sweden':89,\n",
    "       'Switzerland':90, 'Thailand':91, 'Trinidad and Tobago':92, 'Turkey':93,\n",
    "       'Turkmenistan':94, 'Ukraine':95, 'United Arab Emirates':96,\n",
    "       'United Kingdom':97, 'United States':98, 'Uruguay':99, 'Uzbekistan':100}\n",
    "\n",
    "\n",
    "\n",
    "df['country_coder'] = df['country'].map(country_coder)\n"
   ]
  },
  {
   "cell_type": "code",
   "execution_count": 26,
   "metadata": {},
   "outputs": [
    {
     "name": "stdout",
     "output_type": "stream",
     "text": [
      "<class 'pandas.core.frame.DataFrame'>\n",
      "Int64Index: 27660 entries, 0 to 27819\n",
      "Data columns (total 14 columns):\n",
      "country               27660 non-null object\n",
      "year                  27660 non-null int64\n",
      "sex                   27660 non-null object\n",
      "age                   27660 non-null object\n",
      "suicides_no           27660 non-null int64\n",
      "population            27660 non-null int64\n",
      "suicides/100k pop     27660 non-null float64\n",
      "gdp_for_year ($)      27660 non-null int64\n",
      "gdp_per_capita ($)    27660 non-null int64\n",
      "generation            27660 non-null object\n",
      "age_encoder           27660 non-null int64\n",
      "sex_encoder           27660 non-null int64\n",
      "generation_encoder    27660 non-null int64\n",
      "country_coder         27660 non-null int64\n",
      "dtypes: float64(1), int64(9), object(4)\n",
      "memory usage: 3.2+ MB\n"
     ]
    }
   ],
   "source": [
    "df.info()"
   ]
  },
  {
   "cell_type": "markdown",
   "metadata": {},
   "source": [
    "After finishing visualiztions we will remove two featurs : 'suicide_no' and 'population' that were important for our study but has zero connection into the question \"What feature if any, has more effect on suicides rate?\"."
   ]
  },
  {
   "cell_type": "code",
   "execution_count": 27,
   "metadata": {},
   "outputs": [],
   "source": [
    "df.drop(['suicides_no','population'],axis=1,inplace=True)"
   ]
  },
  {
   "cell_type": "markdown",
   "metadata": {},
   "source": [
    "# Regression"
   ]
  },
  {
   "cell_type": "code",
   "execution_count": 28,
   "metadata": {},
   "outputs": [],
   "source": [
    "from sklearn.linear_model import LinearRegression\n",
    "from sklearn.metrics import mean_squared_error, r2_score\n"
   ]
  },
  {
   "cell_type": "code",
   "execution_count": 29,
   "metadata": {},
   "outputs": [
    {
     "data": {
      "text/plain": [
       "['country',\n",
       " 'year',\n",
       " 'sex',\n",
       " 'age',\n",
       " 'suicides/100k pop',\n",
       " 'gdp_for_year ($)',\n",
       " 'gdp_per_capita ($)',\n",
       " 'generation',\n",
       " 'age_encoder',\n",
       " 'sex_encoder',\n",
       " 'generation_encoder',\n",
       " 'country_coder']"
      ]
     },
     "execution_count": 29,
     "metadata": {},
     "output_type": "execute_result"
    }
   ],
   "source": [
    "list(df)"
   ]
  },
  {
   "cell_type": "markdown",
   "metadata": {},
   "source": [
    "## First we'll start by Linear Regression. We divide the dataset into testing and training dataset:"
   ]
  },
  {
   "cell_type": "markdown",
   "metadata": {},
   "source": [
    "## Linear regression"
   ]
  },
  {
   "cell_type": "code",
   "execution_count": 30,
   "metadata": {},
   "outputs": [],
   "source": [
    "Y = df[\"suicides/100k pop\"]\n",
    "X = df.drop(['country','sex','generation','age','suicides/100k pop'],axis=1)\n"
   ]
  },
  {
   "cell_type": "code",
   "execution_count": 31,
   "metadata": {},
   "outputs": [],
   "source": [
    "x_train, x_test, y_train, y_test = train_test_split(X,Y, test_size =0.3, random_state=42)"
   ]
  },
  {
   "cell_type": "code",
   "execution_count": 32,
   "metadata": {},
   "outputs": [
    {
     "name": "stdout",
     "output_type": "stream",
     "text": [
      "LINEAR REGRESSION:\n",
      "Accuracy Score is: 0.293420710366181\n"
     ]
    }
   ],
   "source": [
    "reg = LinearRegression()\n",
    "reg.fit(x_train,y_train)\n",
    "ypred = reg.predict(x_test)\n",
    "acc_score = reg.score(x_test,y_test)\n",
    "print('LINEAR REGRESSION:')\n",
    "print('Accuracy Score is: {}'.format(acc_score))"
   ]
  },
  {
   "cell_type": "code",
   "execution_count": 33,
   "metadata": {},
   "outputs": [
    {
     "name": "stdout",
     "output_type": "stream",
     "text": [
      "Mean Squared Error:\n",
      "Value : 266.5543580164\n"
     ]
    }
   ],
   "source": [
    "print('Mean Squared Error:')\n",
    "print(('Value : %.10f' % mean_squared_error(y_test,ypred)))"
   ]
  },
  {
   "cell_type": "code",
   "execution_count": 34,
   "metadata": {},
   "outputs": [
    {
     "data": {
      "text/html": [
       "<div>\n",
       "<style scoped>\n",
       "    .dataframe tbody tr th:only-of-type {\n",
       "        vertical-align: middle;\n",
       "    }\n",
       "\n",
       "    .dataframe tbody tr th {\n",
       "        vertical-align: top;\n",
       "    }\n",
       "\n",
       "    .dataframe thead th {\n",
       "        text-align: right;\n",
       "    }\n",
       "</style>\n",
       "<table border=\"1\" class=\"dataframe\">\n",
       "  <thead>\n",
       "    <tr style=\"text-align: right;\">\n",
       "      <th></th>\n",
       "      <th>importance</th>\n",
       "    </tr>\n",
       "  </thead>\n",
       "  <tbody>\n",
       "    <tr>\n",
       "      <th>sex_encoder</th>\n",
       "      <td>1.467078e+01</td>\n",
       "    </tr>\n",
       "    <tr>\n",
       "      <th>age_encoder</th>\n",
       "      <td>5.541947e+00</td>\n",
       "    </tr>\n",
       "    <tr>\n",
       "      <th>generation_encoder</th>\n",
       "      <td>2.091674e+00</td>\n",
       "    </tr>\n",
       "    <tr>\n",
       "      <th>country_coder</th>\n",
       "      <td>3.393494e-02</td>\n",
       "    </tr>\n",
       "    <tr>\n",
       "      <th>gdp_per_capita ($)</th>\n",
       "      <td>1.187118e-05</td>\n",
       "    </tr>\n",
       "    <tr>\n",
       "      <th>gdp_for_year ($)</th>\n",
       "      <td>2.552846e-13</td>\n",
       "    </tr>\n",
       "    <tr>\n",
       "      <th>year</th>\n",
       "      <td>-2.301469e-01</td>\n",
       "    </tr>\n",
       "  </tbody>\n",
       "</table>\n",
       "</div>"
      ],
      "text/plain": [
       "                      importance\n",
       "sex_encoder         1.467078e+01\n",
       "age_encoder         5.541947e+00\n",
       "generation_encoder  2.091674e+00\n",
       "country_coder       3.393494e-02\n",
       "gdp_per_capita ($)  1.187118e-05\n",
       "gdp_for_year ($)    2.552846e-13\n",
       "year               -2.301469e-01"
      ]
     },
     "execution_count": 34,
     "metadata": {},
     "output_type": "execute_result"
    }
   ],
   "source": [
    "feature_importances = pd.DataFrame(reg.coef_,index = x_train.columns,columns=['importance']).sort_values('importance',ascending=False)\n",
    "feature_importances"
   ]
  },
  {
   "cell_type": "code",
   "execution_count": 35,
   "metadata": {},
   "outputs": [
    {
     "data": {
      "text/plain": [
       "Text(0, 0.5, 'Predictions')"
      ]
     },
     "execution_count": 35,
     "metadata": {},
     "output_type": "execute_result"
    },
    {
     "data": {
      "image/png": "[encoded data removed]",
      "text/plain": [
       "<Figure size 432x288 with 1 Axes>"
      ]
     },
     "metadata": {
      "needs_background": "light"
     },
     "output_type": "display_data"
    }
   ],
   "source": [
    "plt.scatter(y_test, ypred)\n",
    "plt.xlabel(\"True Vales\",)\n",
    "plt.ylabel(\"Predictions\")"
   ]
  },
  {
   "cell_type": "code",
   "execution_count": 36,
   "metadata": {},
   "outputs": [
    {
     "name": "stdout",
     "output_type": "stream",
     "text": [
      "Coefficients: \n",
      " [-2.30146932e-01  2.55284645e-13  1.18711751e-05  5.54194723e+00\n",
      "  1.46707799e+01  2.09167403e+00  3.39349371e-02]\n",
      "Variance score: 0.29\n"
     ]
    }
   ],
   "source": [
    "print('Coefficients: \\n', reg.coef_)\n",
    "# Explained variance score: 1 is perfect prediction\n",
    "print('Variance score: %.2f' % r2_score(y_test, ypred))"
   ]
  },
  {
   "cell_type": "code",
   "execution_count": 37,
   "metadata": {},
   "outputs": [],
   "source": [
    "y = df[\"age_encoder\"]\n",
    "x = df.drop(['country','generation','age','sex','age_encoder'],axis=1)\n"
   ]
  },
  {
   "cell_type": "code",
   "execution_count": 38,
   "metadata": {},
   "outputs": [],
   "source": [
    "x_train1, x_test1, y_train1, y_test1 = train_test_split(x,y, test_size =0.3, random_state=42)"
   ]
  },
  {
   "cell_type": "code",
   "execution_count": 39,
   "metadata": {},
   "outputs": [
    {
     "name": "stdout",
     "output_type": "stream",
     "text": [
      "LINEAR REGRESSION:\n",
      "Accuracy Score is: 0.9436608385672096\n"
     ]
    }
   ],
   "source": [
    "reg = LinearRegression()\n",
    "reg.fit(x_train1,y_train1)\n",
    "ypred = reg.predict(x_test1)\n",
    "acc_score = reg.score(x_test1,y_test1)\n",
    "print('LINEAR REGRESSION:')\n",
    "print('Accuracy Score is: {}'.format(acc_score))"
   ]
  },
  {
   "cell_type": "code",
   "execution_count": 40,
   "metadata": {},
   "outputs": [
    {
     "name": "stdout",
     "output_type": "stream",
     "text": [
      "                      importance\n",
      "year                7.224856e-02\n",
      "suicides/100k pop   3.569227e-03\n",
      "gdp_for_year ($)    1.194722e-17\n",
      "gdp_per_capita ($) -2.083676e-07\n",
      "country_coder      -1.834151e-04\n",
      "sex_encoder        -5.276607e-02\n",
      "generation_encoder -1.227627e+00\n"
     ]
    }
   ],
   "source": [
    "feature_importances = pd.DataFrame(reg.coef_,index = x_train1.columns,columns=['importance']).sort_values('importance',ascending=False)\n",
    "print(feature_importances)"
   ]
  },
  {
   "cell_type": "code",
   "execution_count": 41,
   "metadata": {},
   "outputs": [
    {
     "data": {
      "text/plain": [
       "Text(0, 0.5, 'Predictions')"
      ]
     },
     "execution_count": 41,
     "metadata": {},
     "output_type": "execute_result"
    },
    {
     "data": {
      "image/png": "[encoded data removed]",
      "text/plain": [
       "<Figure size 432x288 with 1 Axes>"
      ]
     },
     "metadata": {
      "needs_background": "light"
     },
     "output_type": "display_data"
    }
   ],
   "source": [
    "plt.scatter(y_test, ypred)\n",
    "plt.xlabel(\"True Vales\",)\n",
    "plt.ylabel(\"Predictions\")"
   ]
  },
  {
   "cell_type": "markdown",
   "metadata": {},
   "source": [
    "### Linear regression setting can make the model extremely sensitive to noise in the data\n",
    "#### So, we'll try Random Forest Regressor algorithem"
   ]
  },
  {
   "cell_type": "markdown",
   "metadata": {},
   "source": [
    "## Random Forest Regressor"
   ]
  },
  {
   "cell_type": "code",
   "execution_count": 42,
   "metadata": {},
   "outputs": [
    {
     "name": "stderr",
     "output_type": "stream",
     "text": [
      "C:\\Users\\Aline\\Anaconda3\\lib\\site-packages\\sklearn\\ensemble\\forest.py:246: FutureWarning: The default value of n_estimators will change from 10 in version 0.20 to 100 in 0.22.\n",
      "  \"10 in version 0.20 to 100 in 0.22.\", FutureWarning)\n",
      "[Parallel(n_jobs=1)]: Using backend SequentialBackend with 1 concurrent workers.\n"
     ]
    },
    {
     "name": "stdout",
     "output_type": "stream",
     "text": [
      "Random Forest Regressor:\n",
      "Value : 0.8664533599\n"
     ]
    },
    {
     "name": "stderr",
     "output_type": "stream",
     "text": [
      "[Parallel(n_jobs=1)]: Done   8 out of   8 | elapsed:    4.3s finished\n"
     ]
    }
   ],
   "source": [
    "from sklearn.ensemble import RandomForestRegressor\n",
    "from sklearn.model_selection import cross_val_score\n",
    "\n",
    "clf_rf = RandomForestRegressor()\n",
    "clf_rf.fit(x_train , y_train)\n",
    "accuracies = cross_val_score(estimator = clf_rf, X = x_train, y = y_train, cv = 8,verbose = 1)\n",
    "ypred = clf_rf.predict(x_test)\n",
    "\n",
    "print('Random Forest Regressor:')\n",
    "print('Value : %.10f' % clf_rf.score(x_test, y_test))"
   ]
  },
  {
   "cell_type": "code",
   "execution_count": 43,
   "metadata": {},
   "outputs": [
    {
     "name": "stdout",
     "output_type": "stream",
     "text": [
      "Mean Squared Error:\n",
      "Value : 50.3799636222\n"
     ]
    }
   ],
   "source": [
    "print('Mean Squared Error:')\n",
    "print(('Value : %.10f' % mean_squared_error(y_test,ypred)))"
   ]
  },
  {
   "cell_type": "code",
   "execution_count": 44,
   "metadata": {},
   "outputs": [
    {
     "name": "stdout",
     "output_type": "stream",
     "text": [
      "                    importance\n",
      "country_coder         0.294355\n",
      "age_encoder           0.196692\n",
      "gdp_for_year ($)      0.172428\n",
      "sex_encoder           0.151291\n",
      "gdp_per_capita ($)    0.109214\n",
      "year                  0.063779\n",
      "generation_encoder    0.012241\n"
     ]
    }
   ],
   "source": [
    "feature_importances = pd.DataFrame(clf_rf.feature_importances_,index = x_train.columns,columns=['importance']).sort_values('importance',ascending=False)\n",
    "print(feature_importances)"
   ]
  },
  {
   "cell_type": "markdown",
   "metadata": {},
   "source": [
    "## Results of regression:\n",
    "* Linear regression : 29%\n",
    "* Random Forest Regressor : 86%"
   ]
  },
  {
   "cell_type": "markdown",
   "metadata": {},
   "source": [
    "## Conclution : \n",
    "\n",
    "#### The feature with the most effect is the country which the person was from.\n",
    "#### when country as a prime aspect and gdp in high place as well we suspect that a big part of people commiting suicide is when they are in low conditions in their state."
   ]
  }
 ],
 "metadata": {
  "kernelspec": {
   "display_name": "Python 3",
   "language": "python",
   "name": "python3"
  },
  "language_info": {
   "codemirror_mode": {
    "name": "ipython",
    "version": 3
   },
   "file_extension": ".py",
   "mimetype": "text/x-python",
   "name": "python",
   "nbconvert_exporter": "python",
   "pygments_lexer": "ipython3",
   "version": "3.7.1"
  }
 },
 "nbformat": 4,
 "nbformat_minor": 2
}
