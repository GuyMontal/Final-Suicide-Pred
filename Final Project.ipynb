{
 "cells": [
  {
   "cell_type": "markdown",
   "metadata": {},
   "source": [
    "# Suicides in the world - Final project\n",
    "\n",
    "Alina Eliovich 205947443 , Guy Montal 203319991\n",
    "\n"
   ]
  },
  {
   "cell_type": "markdown",
   "metadata": {},
   "source": [
    "# introduction\n",
    "\n",
    "In our project we will try to evaluate which feature has the most impact on the number of suicides."
   ]
  },
  {
   "cell_type": "markdown",
   "metadata": {},
   "source": [
    "# The Variables in the data are:\n",
    "\n",
    "*\t country \n",
    "*\t year : from 1985 - 2016\n",
    "*\t sex : male or female\n",
    "*\t age : grouped age (15-24, 25-34, 35-54, 54-74, 75+)\n",
    "*\t suicides_no : suicides count\n",
    "*\t population : number of people who was residents in the country at this year\n",
    "*\t suicides/100k pop : suicides count rescale\n",
    "*\t country-year : country with year combine\n",
    "*\t HDI for year : Human Development Index, the higher the better\n",
    "*\t gdp_for_year : Gross Domestic Product\n",
    "*\t gdp_per_capita : Gross Domestic Product rescale\n",
    "*\t generation"
   ]
  },
  {
   "cell_type": "code",
   "execution_count": 7,
   "metadata": {},
   "outputs": [],
   "source": [
    "import pandas as pd\n",
    "import numpy as np\n",
    "from sklearn.metrics import accuracy_score\n",
    "from sklearn.model_selection import train_test_split\n",
    "import matplotlib.pyplot as plt\n",
    "import matplotlib\n",
    "import seaborn as sns"
   ]
  },
  {
   "cell_type": "markdown",
   "metadata": {},
   "source": [
    "#  Data set:"
   ]
  },
  {
   "cell_type": "code",
   "execution_count": 8,
   "metadata": {},
   "outputs": [],
   "source": [
    "s_data = pd.read_csv(\"Suicide cases 1985-2016.csv\")"
   ]
  },
  {
   "cell_type": "code",
   "execution_count": 9,
   "metadata": {},
   "outputs": [
    {
     "data": {
      "text/html": [
       "<div>\n",
       "<style scoped>\n",
       "    .dataframe tbody tr th:only-of-type {\n",
       "        vertical-align: middle;\n",
       "    }\n",
       "\n",
       "    .dataframe tbody tr th {\n",
       "        vertical-align: top;\n",
       "    }\n",
       "\n",
       "    .dataframe thead th {\n",
       "        text-align: right;\n",
       "    }\n",
       "</style>\n",
       "<table border=\"1\" class=\"dataframe\">\n",
       "  <thead>\n",
       "    <tr style=\"text-align: right;\">\n",
       "      <th></th>\n",
       "      <th>country</th>\n",
       "      <th>year</th>\n",
       "      <th>sex</th>\n",
       "      <th>age</th>\n",
       "      <th>suicides_no</th>\n",
       "      <th>population</th>\n",
       "      <th>suicides/100k pop</th>\n",
       "      <th>country-year</th>\n",
       "      <th>HDI for year</th>\n",
       "      <th>gdp_for_year ($)</th>\n",
       "      <th>gdp_per_capita ($)</th>\n",
       "      <th>generation</th>\n",
       "    </tr>\n",
       "  </thead>\n",
       "  <tbody>\n",
       "    <tr>\n",
       "      <th>0</th>\n",
       "      <td>Albania</td>\n",
       "      <td>1987</td>\n",
       "      <td>male</td>\n",
       "      <td>15-24 years</td>\n",
       "      <td>21</td>\n",
       "      <td>312900</td>\n",
       "      <td>6.71</td>\n",
       "      <td>Albania1987</td>\n",
       "      <td>NaN</td>\n",
       "      <td>2,156,624,900</td>\n",
       "      <td>796</td>\n",
       "      <td>Generation X</td>\n",
       "    </tr>\n",
       "    <tr>\n",
       "      <th>1</th>\n",
       "      <td>Albania</td>\n",
       "      <td>1987</td>\n",
       "      <td>male</td>\n",
       "      <td>35-54 years</td>\n",
       "      <td>16</td>\n",
       "      <td>308000</td>\n",
       "      <td>5.19</td>\n",
       "      <td>Albania1987</td>\n",
       "      <td>NaN</td>\n",
       "      <td>2,156,624,900</td>\n",
       "      <td>796</td>\n",
       "      <td>Silent</td>\n",
       "    </tr>\n",
       "    <tr>\n",
       "      <th>2</th>\n",
       "      <td>Albania</td>\n",
       "      <td>1987</td>\n",
       "      <td>female</td>\n",
       "      <td>15-24 years</td>\n",
       "      <td>14</td>\n",
       "      <td>289700</td>\n",
       "      <td>4.83</td>\n",
       "      <td>Albania1987</td>\n",
       "      <td>NaN</td>\n",
       "      <td>2,156,624,900</td>\n",
       "      <td>796</td>\n",
       "      <td>Generation X</td>\n",
       "    </tr>\n",
       "    <tr>\n",
       "      <th>3</th>\n",
       "      <td>Albania</td>\n",
       "      <td>1987</td>\n",
       "      <td>male</td>\n",
       "      <td>75+ years</td>\n",
       "      <td>1</td>\n",
       "      <td>21800</td>\n",
       "      <td>4.59</td>\n",
       "      <td>Albania1987</td>\n",
       "      <td>NaN</td>\n",
       "      <td>2,156,624,900</td>\n",
       "      <td>796</td>\n",
       "      <td>G.I. Generation</td>\n",
       "    </tr>\n",
       "    <tr>\n",
       "      <th>4</th>\n",
       "      <td>Albania</td>\n",
       "      <td>1987</td>\n",
       "      <td>male</td>\n",
       "      <td>25-34 years</td>\n",
       "      <td>9</td>\n",
       "      <td>274300</td>\n",
       "      <td>3.28</td>\n",
       "      <td>Albania1987</td>\n",
       "      <td>NaN</td>\n",
       "      <td>2,156,624,900</td>\n",
       "      <td>796</td>\n",
       "      <td>Boomers</td>\n",
       "    </tr>\n",
       "  </tbody>\n",
       "</table>\n",
       "</div>"
      ],
      "text/plain": [
       "   country  year     sex          age  suicides_no  population  \\\n",
       "0  Albania  1987    male  15-24 years           21      312900   \n",
       "1  Albania  1987    male  35-54 years           16      308000   \n",
       "2  Albania  1987  female  15-24 years           14      289700   \n",
       "3  Albania  1987    male    75+ years            1       21800   \n",
       "4  Albania  1987    male  25-34 years            9      274300   \n",
       "\n",
       "   suicides/100k pop country-year  HDI for year  gdp_for_year ($)   \\\n",
       "0               6.71  Albania1987           NaN      2,156,624,900   \n",
       "1               5.19  Albania1987           NaN      2,156,624,900   \n",
       "2               4.83  Albania1987           NaN      2,156,624,900   \n",
       "3               4.59  Albania1987           NaN      2,156,624,900   \n",
       "4               3.28  Albania1987           NaN      2,156,624,900   \n",
       "\n",
       "   gdp_per_capita ($)       generation  \n",
       "0                 796     Generation X  \n",
       "1                 796           Silent  \n",
       "2                 796     Generation X  \n",
       "3                 796  G.I. Generation  \n",
       "4                 796          Boomers  "
      ]
     },
     "execution_count": 9,
     "metadata": {},
     "output_type": "execute_result"
    }
   ],
   "source": [
    "s_data.head()"
   ]
  },
  {
   "cell_type": "code",
   "execution_count": 10,
   "metadata": {
    "scrolled": true
   },
   "outputs": [
    {
     "data": {
      "text/plain": [
       "country                object\n",
       "year                    int64\n",
       "sex                    object\n",
       "age                    object\n",
       "suicides_no             int64\n",
       "population              int64\n",
       "suicides/100k pop     float64\n",
       "country-year           object\n",
       "HDI for year          float64\n",
       " gdp_for_year ($)      object\n",
       "gdp_per_capita ($)      int64\n",
       "generation             object\n",
       "dtype: object"
      ]
     },
     "execution_count": 10,
     "metadata": {},
     "output_type": "execute_result"
    }
   ],
   "source": [
    "s_data.dtypes"
   ]
  },
  {
   "cell_type": "code",
   "execution_count": null,
   "metadata": {},
   "outputs": [],
   "source": []
  },
  {
   "cell_type": "markdown",
   "metadata": {},
   "source": [
    "We also see that the columns country-year is just a combination of the Year and Country columns, therefore we'll remove it.\n",
    "we also suspect that the column 'HDI for year' has some missing values, we'll check that too. "
   ]
  },
  {
   "cell_type": "code",
   "execution_count": 11,
   "metadata": {},
   "outputs": [
    {
     "data": {
      "text/plain": [
       "country                   0\n",
       "year                      0\n",
       "sex                       0\n",
       "age                       0\n",
       "suicides_no               0\n",
       "population                0\n",
       "suicides/100k pop         0\n",
       "country-year              0\n",
       "HDI for year          19456\n",
       " gdp_for_year ($)         0\n",
       "gdp_per_capita ($)        0\n",
       "generation                0\n",
       "dtype: int64"
      ]
     },
     "execution_count": 11,
     "metadata": {},
     "output_type": "execute_result"
    }
   ],
   "source": [
    "s_data.isnull().sum()"
   ]
  },
  {
   "cell_type": "markdown",
   "metadata": {},
   "source": [
    "Missing values&irrelevant values:"
   ]
  },
  {
   "cell_type": "code",
   "execution_count": 12,
   "metadata": {},
   "outputs": [],
   "source": [
    "s_data.drop(['HDI for year',' gdp_for_year ($) '],axis=1,inplace=True)\n"
   ]
  },
  {
   "cell_type": "code",
   "execution_count": 13,
   "metadata": {},
   "outputs": [
    {
     "data": {
      "text/html": [
       "<div>\n",
       "<style scoped>\n",
       "    .dataframe tbody tr th:only-of-type {\n",
       "        vertical-align: middle;\n",
       "    }\n",
       "\n",
       "    .dataframe tbody tr th {\n",
       "        vertical-align: top;\n",
       "    }\n",
       "\n",
       "    .dataframe thead th {\n",
       "        text-align: right;\n",
       "    }\n",
       "</style>\n",
       "<table border=\"1\" class=\"dataframe\">\n",
       "  <thead>\n",
       "    <tr style=\"text-align: right;\">\n",
       "      <th></th>\n",
       "      <th>country</th>\n",
       "      <th>year</th>\n",
       "      <th>sex</th>\n",
       "      <th>age</th>\n",
       "      <th>suicides_no</th>\n",
       "      <th>population</th>\n",
       "      <th>suicides/100k pop</th>\n",
       "      <th>country-year</th>\n",
       "      <th>gdp_per_capita ($)</th>\n",
       "      <th>generation</th>\n",
       "    </tr>\n",
       "  </thead>\n",
       "  <tbody>\n",
       "    <tr>\n",
       "      <th>0</th>\n",
       "      <td>Albania</td>\n",
       "      <td>1987</td>\n",
       "      <td>male</td>\n",
       "      <td>15-24 years</td>\n",
       "      <td>21</td>\n",
       "      <td>312900</td>\n",
       "      <td>6.71</td>\n",
       "      <td>Albania1987</td>\n",
       "      <td>796</td>\n",
       "      <td>Generation X</td>\n",
       "    </tr>\n",
       "    <tr>\n",
       "      <th>1</th>\n",
       "      <td>Albania</td>\n",
       "      <td>1987</td>\n",
       "      <td>male</td>\n",
       "      <td>35-54 years</td>\n",
       "      <td>16</td>\n",
       "      <td>308000</td>\n",
       "      <td>5.19</td>\n",
       "      <td>Albania1987</td>\n",
       "      <td>796</td>\n",
       "      <td>Silent</td>\n",
       "    </tr>\n",
       "    <tr>\n",
       "      <th>2</th>\n",
       "      <td>Albania</td>\n",
       "      <td>1987</td>\n",
       "      <td>female</td>\n",
       "      <td>15-24 years</td>\n",
       "      <td>14</td>\n",
       "      <td>289700</td>\n",
       "      <td>4.83</td>\n",
       "      <td>Albania1987</td>\n",
       "      <td>796</td>\n",
       "      <td>Generation X</td>\n",
       "    </tr>\n",
       "    <tr>\n",
       "      <th>3</th>\n",
       "      <td>Albania</td>\n",
       "      <td>1987</td>\n",
       "      <td>male</td>\n",
       "      <td>75+ years</td>\n",
       "      <td>1</td>\n",
       "      <td>21800</td>\n",
       "      <td>4.59</td>\n",
       "      <td>Albania1987</td>\n",
       "      <td>796</td>\n",
       "      <td>G.I. Generation</td>\n",
       "    </tr>\n",
       "    <tr>\n",
       "      <th>4</th>\n",
       "      <td>Albania</td>\n",
       "      <td>1987</td>\n",
       "      <td>male</td>\n",
       "      <td>25-34 years</td>\n",
       "      <td>9</td>\n",
       "      <td>274300</td>\n",
       "      <td>3.28</td>\n",
       "      <td>Albania1987</td>\n",
       "      <td>796</td>\n",
       "      <td>Boomers</td>\n",
       "    </tr>\n",
       "  </tbody>\n",
       "</table>\n",
       "</div>"
      ],
      "text/plain": [
       "   country  year     sex          age  suicides_no  population  \\\n",
       "0  Albania  1987    male  15-24 years           21      312900   \n",
       "1  Albania  1987    male  35-54 years           16      308000   \n",
       "2  Albania  1987  female  15-24 years           14      289700   \n",
       "3  Albania  1987    male    75+ years            1       21800   \n",
       "4  Albania  1987    male  25-34 years            9      274300   \n",
       "\n",
       "   suicides/100k pop country-year  gdp_per_capita ($)       generation  \n",
       "0               6.71  Albania1987                 796     Generation X  \n",
       "1               5.19  Albania1987                 796           Silent  \n",
       "2               4.83  Albania1987                 796     Generation X  \n",
       "3               4.59  Albania1987                 796  G.I. Generation  \n",
       "4               3.28  Albania1987                 796          Boomers  "
      ]
     },
     "execution_count": 13,
     "metadata": {},
     "output_type": "execute_result"
    }
   ],
   "source": [
    "s_data.head()"
   ]
  },
  {
   "cell_type": "markdown",
   "metadata": {},
   "source": [
    "# Visualization of Data\n",
    "We visualize data to uncover hidden patterns if any in the dataset"
   ]
  },
  {
   "cell_type": "markdown",
   "metadata": {},
   "source": [
    "In order to start visualize our data and normallize for data mining, we will make a copy of our dataset for our convenience:"
   ]
  },
  {
   "cell_type": "code",
   "execution_count": 14,
   "metadata": {},
   "outputs": [],
   "source": [
    "df = s_data.copy()"
   ]
  },
  {
   "cell_type": "markdown",
   "metadata": {},
   "source": [
    "### Feature Encoding\n",
    "\n",
    "Feature Encoding is important because We have to encode the values in such way that we can make numeric calculations on Object data type, it will also be crucial for our future classifier "
   ]
  },
  {
   "cell_type": "code",
   "execution_count": 15,
   "metadata": {},
   "outputs": [],
   "source": [
    "age_coder = {'5-14 years':0,\n",
    "            '15-24 years':1,\n",
    "            '25-34 years':2,\n",
    "            '35-54 years':3,\n",
    "            '55-74 years':4,\n",
    "            '75+ years':5}\n",
    "age = {0:'5-14 years',\n",
    "      1:'15-24 years',\n",
    "      2:'25-34 years',\n",
    "      3:'35-54 years',\n",
    "      4:'55-74 years',\n",
    "      5:'75+ years'}\n",
    "gender = {0:'female',1:'male'}\n",
    "\n",
    "gender_coder = {'female':0,'male':1}\n",
    "\n",
    "df['age_encoder'] = df['age'].map(age_coder)\n",
    "df['sex_encoder'] = df['sex'].map(gender_coder)"
   ]
  },
  {
   "cell_type": "code",
   "execution_count": 16,
   "metadata": {},
   "outputs": [],
   "source": [
    "s_df = df.groupby('age_encoder')[['suicides_no']].sum()\n"
   ]
  },
  {
   "cell_type": "code",
   "execution_count": 17,
   "metadata": {},
   "outputs": [
    {
     "name": "stderr",
     "output_type": "stream",
     "text": [
      "C:\\Users\\Aline\\Anaconda3\\lib\\site-packages\\scipy\\stats\\stats.py:1713: FutureWarning: Using a non-tuple sequence for multidimensional indexing is deprecated; use `arr[tuple(seq)]` instead of `arr[seq]`. In the future this will be interpreted as an array index, `arr[np.array(seq)]`, which will result either in an error or a different result.\n",
      "  return np.add.reduce(sorted[indexer] * weights, axis=axis) / sumval\n"
     ]
    },
    {
     "data": {
      "text/plain": [
       "Text(0, 0.5, 'Number of Suicide')"
      ]
     },
     "execution_count": 17,
     "metadata": {},
     "output_type": "execute_result"
    },
    {
     "data": {
      "image/png": "[encoded data removed]",
      "text/plain": [
       "<Figure size 864x360 with 1 Axes>"
      ]
     },
     "metadata": {
      "needs_background": "light"
     },
     "output_type": "display_data"
    }
   ],
   "source": [
    "plt.figure(figsize=(12,5))\n",
    "sns.barplot(x=df.age_encoder,y=df.suicides_no)\n",
    "plt.title(\"Total Suicide based in Age group\")\n",
    "plt.xlabel(\"Age Group\")\n",
    "plt.ylabel(\"Number of Suicide\")"
   ]
  },
  {
   "cell_type": "markdown",
   "metadata": {},
   "source": [
    "### The most commot age to commit a suicide is between 35-54"
   ]
  },
  {
   "cell_type": "code",
   "execution_count": 18,
   "metadata": {},
   "outputs": [
    {
     "data": {
      "text/plain": [
       "Generation X       6408\n",
       "Silent             6364\n",
       "Millenials         5844\n",
       "Boomers            4990\n",
       "G.I. Generation    2744\n",
       "Generation Z       1470\n",
       "Name: generation, dtype: int64"
      ]
     },
     "execution_count": 18,
     "metadata": {},
     "output_type": "execute_result"
    }
   ],
   "source": [
    "generation_coder = {'G.I. Generation':0,\n",
    "               'Silent':1,\n",
    "               'Boomers':2, \n",
    "               'Generation X':3,\n",
    "               'Millenials':4,\n",
    "               'Generation Z':5}\n",
    "\n",
    "df['generation_encoder'] = df['generation'].map(generation_coder)\n",
    "\n",
    "df[\"generation\"].value_counts()"
   ]
  },
  {
   "cell_type": "code",
   "execution_count": 19,
   "metadata": {},
   "outputs": [
    {
     "data": {
      "image/png": "[encoded data removed]",
      "text/plain": [
       "<Figure size 432x288 with 1 Axes>"
      ]
     },
     "metadata": {
      "needs_background": "light"
     },
     "output_type": "display_data"
    }
   ],
   "source": [
    "sns.barplot(x=df.generation.value_counts().index,y=df.generation.value_counts().values)\n",
    "plt.xlabel('generation')\n",
    "plt.ylabel('Frequency')\n",
    "plt.title('Show of generation Bar Plot')\n",
    "plt.show()"
   ]
  },
  {
   "cell_type": "markdown",
   "metadata": {},
   "source": [
    "### Generation X and Silent generations are most common."
   ]
  },
  {
   "cell_type": "code",
   "execution_count": 20,
   "metadata": {},
   "outputs": [
    {
     "data": {
      "image/png": "[encoded data removed]",
      "text/plain": [
       "<Figure size 432x288 with 1 Axes>"
      ]
     },
     "metadata": {
      "needs_background": "light"
     },
     "output_type": "display_data"
    }
   ],
   "source": [
    "sns.barplot(x='sex' ,y='suicides_no', data=df)\n",
    "plt.title('Data by country')\n",
    "plt.show()"
   ]
  },
  {
   "cell_type": "code",
   "execution_count": 21,
   "metadata": {},
   "outputs": [
    {
     "data": {
      "image/png": "[encoded data removed]",
      "text/plain": [
       "<Figure size 432x288 with 1 Axes>"
      ]
     },
     "metadata": {
      "needs_background": "light"
     },
     "output_type": "display_data"
    }
   ],
   "source": [
    "sns.barplot(x ='generation', y ='suicides_no', hue = \"sex\", data = df)\n",
    "plt.xticks(rotation=45)\n",
    "plt.show()"
   ]
  },
  {
   "cell_type": "code",
   "execution_count": 22,
   "metadata": {},
   "outputs": [
    {
     "data": {
      "image/png": "[encoded data removed]",
      "text/plain": [
       "<Figure size 432x288 with 1 Axes>"
      ]
     },
     "metadata": {
      "needs_background": "light"
     },
     "output_type": "display_data"
    }
   ],
   "source": [
    "bar_age = sns.barplot(x='sex',y='suicides_no',hue='age',data=df)"
   ]
  },
  {
   "cell_type": "code",
   "execution_count": 23,
   "metadata": {},
   "outputs": [
    {
     "data": {
      "image/png": "[encoded data removed]",
      "text/plain": [
       "<Figure size 720x1080 with 1 Axes>"
      ]
     },
     "metadata": {
      "needs_background": "light"
     },
     "output_type": "display_data"
    }
   ],
   "source": [
    "plt.figure(figsize=(10,15))\n",
    "sns.countplot(y='country', data=df)\n",
    "plt.title('Data by country')\n",
    "plt.show()"
   ]
  },
  {
   "cell_type": "code",
   "execution_count": 24,
   "metadata": {},
   "outputs": [
    {
     "data": {
      "image/png": "[encoded data removed]",
      "text/plain": [
       "<Figure size 432x288 with 1 Axes>"
      ]
     },
     "metadata": {
      "needs_background": "light"
     },
     "output_type": "display_data"
    }
   ],
   "source": [
    "df.groupby(['country']).suicides_no.agg('sum').nlargest(10).plot(kind='barh')\n",
    "plt.xlabel(' Suicides_no', size=20)\n",
    "plt.ylabel('Country', fontsize=20);"
   ]
  },
  {
   "cell_type": "markdown",
   "metadata": {},
   "source": [
    "## Calculating the correlation matrix:"
   ]
  },
  {
   "cell_type": "code",
   "execution_count": 25,
   "metadata": {},
   "outputs": [
    {
     "data": {
      "text/html": [
       "<div>\n",
       "<style scoped>\n",
       "    .dataframe tbody tr th:only-of-type {\n",
       "        vertical-align: middle;\n",
       "    }\n",
       "\n",
       "    .dataframe tbody tr th {\n",
       "        vertical-align: top;\n",
       "    }\n",
       "\n",
       "    .dataframe thead th {\n",
       "        text-align: right;\n",
       "    }\n",
       "</style>\n",
       "<table border=\"1\" class=\"dataframe\">\n",
       "  <thead>\n",
       "    <tr style=\"text-align: right;\">\n",
       "      <th></th>\n",
       "      <th>year</th>\n",
       "      <th>suicides_no</th>\n",
       "      <th>population</th>\n",
       "      <th>suicides/100k pop</th>\n",
       "      <th>gdp_per_capita ($)</th>\n",
       "      <th>age_encoder</th>\n",
       "      <th>sex_encoder</th>\n",
       "      <th>generation_encoder</th>\n",
       "    </tr>\n",
       "  </thead>\n",
       "  <tbody>\n",
       "    <tr>\n",
       "      <th>year</th>\n",
       "      <td>1.000000</td>\n",
       "      <td>-0.004546</td>\n",
       "      <td>0.008850</td>\n",
       "      <td>-0.039037</td>\n",
       "      <td>3.391343e-01</td>\n",
       "      <td>2.932878e-03</td>\n",
       "      <td>0.000000e+00</td>\n",
       "      <td>0.344844</td>\n",
       "    </tr>\n",
       "    <tr>\n",
       "      <th>suicides_no</th>\n",
       "      <td>-0.004546</td>\n",
       "      <td>1.000000</td>\n",
       "      <td>0.616162</td>\n",
       "      <td>0.306604</td>\n",
       "      <td>6.132975e-02</td>\n",
       "      <td>7.989236e-02</td>\n",
       "      <td>1.446292e-01</td>\n",
       "      <td>-0.071691</td>\n",
       "    </tr>\n",
       "    <tr>\n",
       "      <th>population</th>\n",
       "      <td>0.008850</td>\n",
       "      <td>0.616162</td>\n",
       "      <td>1.000000</td>\n",
       "      <td>0.008285</td>\n",
       "      <td>8.150986e-02</td>\n",
       "      <td>-6.071612e-02</td>\n",
       "      <td>-1.124208e-02</td>\n",
       "      <td>0.059147</td>\n",
       "    </tr>\n",
       "    <tr>\n",
       "      <th>suicides/100k pop</th>\n",
       "      <td>-0.039037</td>\n",
       "      <td>0.306604</td>\n",
       "      <td>0.008285</td>\n",
       "      <td>1.000000</td>\n",
       "      <td>1.785134e-03</td>\n",
       "      <td>3.625866e-01</td>\n",
       "      <td>3.914965e-01</td>\n",
       "      <td>-0.335593</td>\n",
       "    </tr>\n",
       "    <tr>\n",
       "      <th>gdp_per_capita ($)</th>\n",
       "      <td>0.339134</td>\n",
       "      <td>0.061330</td>\n",
       "      <td>0.081510</td>\n",
       "      <td>0.001785</td>\n",
       "      <td>1.000000e+00</td>\n",
       "      <td>7.849172e-04</td>\n",
       "      <td>1.336263e-18</td>\n",
       "      <td>0.116436</td>\n",
       "    </tr>\n",
       "    <tr>\n",
       "      <th>age_encoder</th>\n",
       "      <td>0.002933</td>\n",
       "      <td>0.079892</td>\n",
       "      <td>-0.060716</td>\n",
       "      <td>0.362587</td>\n",
       "      <td>7.849172e-04</td>\n",
       "      <td>1.000000e+00</td>\n",
       "      <td>-6.453645e-19</td>\n",
       "      <td>-0.910657</td>\n",
       "    </tr>\n",
       "    <tr>\n",
       "      <th>sex_encoder</th>\n",
       "      <td>0.000000</td>\n",
       "      <td>0.144629</td>\n",
       "      <td>-0.011242</td>\n",
       "      <td>0.391496</td>\n",
       "      <td>1.336263e-18</td>\n",
       "      <td>-6.453645e-19</td>\n",
       "      <td>1.000000e+00</td>\n",
       "      <td>0.000000</td>\n",
       "    </tr>\n",
       "    <tr>\n",
       "      <th>generation_encoder</th>\n",
       "      <td>0.344844</td>\n",
       "      <td>-0.071691</td>\n",
       "      <td>0.059147</td>\n",
       "      <td>-0.335593</td>\n",
       "      <td>1.164355e-01</td>\n",
       "      <td>-9.106574e-01</td>\n",
       "      <td>0.000000e+00</td>\n",
       "      <td>1.000000</td>\n",
       "    </tr>\n",
       "  </tbody>\n",
       "</table>\n",
       "</div>"
      ],
      "text/plain": [
       "                        year  suicides_no  population  suicides/100k pop  \\\n",
       "year                1.000000    -0.004546    0.008850          -0.039037   \n",
       "suicides_no        -0.004546     1.000000    0.616162           0.306604   \n",
       "population          0.008850     0.616162    1.000000           0.008285   \n",
       "suicides/100k pop  -0.039037     0.306604    0.008285           1.000000   \n",
       "gdp_per_capita ($)  0.339134     0.061330    0.081510           0.001785   \n",
       "age_encoder         0.002933     0.079892   -0.060716           0.362587   \n",
       "sex_encoder         0.000000     0.144629   -0.011242           0.391496   \n",
       "generation_encoder  0.344844    -0.071691    0.059147          -0.335593   \n",
       "\n",
       "                    gdp_per_capita ($)   age_encoder   sex_encoder  \\\n",
       "year                      3.391343e-01  2.932878e-03  0.000000e+00   \n",
       "suicides_no               6.132975e-02  7.989236e-02  1.446292e-01   \n",
       "population                8.150986e-02 -6.071612e-02 -1.124208e-02   \n",
       "suicides/100k pop         1.785134e-03  3.625866e-01  3.914965e-01   \n",
       "gdp_per_capita ($)        1.000000e+00  7.849172e-04  1.336263e-18   \n",
       "age_encoder               7.849172e-04  1.000000e+00 -6.453645e-19   \n",
       "sex_encoder               1.336263e-18 -6.453645e-19  1.000000e+00   \n",
       "generation_encoder        1.164355e-01 -9.106574e-01  0.000000e+00   \n",
       "\n",
       "                    generation_encoder  \n",
       "year                          0.344844  \n",
       "suicides_no                  -0.071691  \n",
       "population                    0.059147  \n",
       "suicides/100k pop            -0.335593  \n",
       "gdp_per_capita ($)            0.116436  \n",
       "age_encoder                  -0.910657  \n",
       "sex_encoder                   0.000000  \n",
       "generation_encoder            1.000000  "
      ]
     },
     "execution_count": 25,
     "metadata": {},
     "output_type": "execute_result"
    }
   ],
   "source": [
    "df.corr()"
   ]
  },
  {
   "cell_type": "code",
   "execution_count": 26,
   "metadata": {},
   "outputs": [
    {
     "data": {
      "image/png": "[encoded data removed]",
      "text/plain": [
       "<Figure size 432x288 with 2 Axes>"
      ]
     },
     "metadata": {
      "needs_background": "light"
     },
     "output_type": "display_data"
    }
   ],
   "source": [
    "sns.heatmap(df.corr())\n",
    "plt.show()"
   ]
  },
  {
   "cell_type": "code",
   "execution_count": 27,
   "metadata": {},
   "outputs": [
    {
     "data": {
      "text/html": [
       "<div>\n",
       "<style scoped>\n",
       "    .dataframe tbody tr th:only-of-type {\n",
       "        vertical-align: middle;\n",
       "    }\n",
       "\n",
       "    .dataframe tbody tr th {\n",
       "        vertical-align: top;\n",
       "    }\n",
       "\n",
       "    .dataframe thead th {\n",
       "        text-align: right;\n",
       "    }\n",
       "</style>\n",
       "<table border=\"1\" class=\"dataframe\">\n",
       "  <thead>\n",
       "    <tr style=\"text-align: right;\">\n",
       "      <th></th>\n",
       "      <th>country</th>\n",
       "      <th>year</th>\n",
       "      <th>sex</th>\n",
       "      <th>age</th>\n",
       "      <th>suicides_no</th>\n",
       "      <th>population</th>\n",
       "      <th>suicides/100k pop</th>\n",
       "      <th>country-year</th>\n",
       "      <th>gdp_per_capita ($)</th>\n",
       "      <th>generation</th>\n",
       "      <th>age_encoder</th>\n",
       "      <th>sex_encoder</th>\n",
       "      <th>generation_encoder</th>\n",
       "    </tr>\n",
       "  </thead>\n",
       "  <tbody>\n",
       "    <tr>\n",
       "      <th>0</th>\n",
       "      <td>Albania</td>\n",
       "      <td>1987</td>\n",
       "      <td>male</td>\n",
       "      <td>15-24 years</td>\n",
       "      <td>21</td>\n",
       "      <td>312900</td>\n",
       "      <td>6.71</td>\n",
       "      <td>Albania1987</td>\n",
       "      <td>796</td>\n",
       "      <td>Generation X</td>\n",
       "      <td>1</td>\n",
       "      <td>1</td>\n",
       "      <td>3</td>\n",
       "    </tr>\n",
       "    <tr>\n",
       "      <th>1</th>\n",
       "      <td>Albania</td>\n",
       "      <td>1987</td>\n",
       "      <td>male</td>\n",
       "      <td>35-54 years</td>\n",
       "      <td>16</td>\n",
       "      <td>308000</td>\n",
       "      <td>5.19</td>\n",
       "      <td>Albania1987</td>\n",
       "      <td>796</td>\n",
       "      <td>Silent</td>\n",
       "      <td>3</td>\n",
       "      <td>1</td>\n",
       "      <td>1</td>\n",
       "    </tr>\n",
       "    <tr>\n",
       "      <th>2</th>\n",
       "      <td>Albania</td>\n",
       "      <td>1987</td>\n",
       "      <td>female</td>\n",
       "      <td>15-24 years</td>\n",
       "      <td>14</td>\n",
       "      <td>289700</td>\n",
       "      <td>4.83</td>\n",
       "      <td>Albania1987</td>\n",
       "      <td>796</td>\n",
       "      <td>Generation X</td>\n",
       "      <td>1</td>\n",
       "      <td>0</td>\n",
       "      <td>3</td>\n",
       "    </tr>\n",
       "    <tr>\n",
       "      <th>3</th>\n",
       "      <td>Albania</td>\n",
       "      <td>1987</td>\n",
       "      <td>male</td>\n",
       "      <td>75+ years</td>\n",
       "      <td>1</td>\n",
       "      <td>21800</td>\n",
       "      <td>4.59</td>\n",
       "      <td>Albania1987</td>\n",
       "      <td>796</td>\n",
       "      <td>G.I. Generation</td>\n",
       "      <td>5</td>\n",
       "      <td>1</td>\n",
       "      <td>0</td>\n",
       "    </tr>\n",
       "    <tr>\n",
       "      <th>4</th>\n",
       "      <td>Albania</td>\n",
       "      <td>1987</td>\n",
       "      <td>male</td>\n",
       "      <td>25-34 years</td>\n",
       "      <td>9</td>\n",
       "      <td>274300</td>\n",
       "      <td>3.28</td>\n",
       "      <td>Albania1987</td>\n",
       "      <td>796</td>\n",
       "      <td>Boomers</td>\n",
       "      <td>2</td>\n",
       "      <td>1</td>\n",
       "      <td>2</td>\n",
       "    </tr>\n",
       "  </tbody>\n",
       "</table>\n",
       "</div>"
      ],
      "text/plain": [
       "   country  year     sex          age  suicides_no  population  \\\n",
       "0  Albania  1987    male  15-24 years           21      312900   \n",
       "1  Albania  1987    male  35-54 years           16      308000   \n",
       "2  Albania  1987  female  15-24 years           14      289700   \n",
       "3  Albania  1987    male    75+ years            1       21800   \n",
       "4  Albania  1987    male  25-34 years            9      274300   \n",
       "\n",
       "   suicides/100k pop country-year  gdp_per_capita ($)       generation  \\\n",
       "0               6.71  Albania1987                 796     Generation X   \n",
       "1               5.19  Albania1987                 796           Silent   \n",
       "2               4.83  Albania1987                 796     Generation X   \n",
       "3               4.59  Albania1987                 796  G.I. Generation   \n",
       "4               3.28  Albania1987                 796          Boomers   \n",
       "\n",
       "   age_encoder  sex_encoder  generation_encoder  \n",
       "0            1            1                   3  \n",
       "1            3            1                   1  \n",
       "2            1            0                   3  \n",
       "3            5            1                   0  \n",
       "4            2            1                   2  "
      ]
     },
     "execution_count": 27,
     "metadata": {},
     "output_type": "execute_result"
    }
   ],
   "source": [
    "df.head()"
   ]
  },
  {
   "cell_type": "code",
   "execution_count": 28,
   "metadata": {},
   "outputs": [
    {
     "data": {
      "text/plain": [
       "[<matplotlib.lines.Line2D at 0x23edb929320>]"
      ]
     },
     "execution_count": 28,
     "metadata": {},
     "output_type": "execute_result"
    },
    {
     "data": {
      "image/png": "[encoded data removed]",
      "text/plain": [
       "<Figure size 432x288 with 1 Axes>"
      ]
     },
     "metadata": {
      "needs_background": "light"
     },
     "output_type": "display_data"
    }
   ],
   "source": [
    "year = df.groupby(['year']).suicides_no.agg('sum')\n",
    "plt.plot(year)"
   ]
  },
  {
   "cell_type": "markdown",
   "metadata": {},
   "source": [
    "Probably we see the drop maybe because the year haven't finished - So we will drop all the data from that year."
   ]
  },
  {
   "cell_type": "code",
   "execution_count": 29,
   "metadata": {},
   "outputs": [],
   "source": [
    "df = df[df.year != 2016]"
   ]
  },
  {
   "cell_type": "code",
   "execution_count": 30,
   "metadata": {},
   "outputs": [
    {
     "data": {
      "text/plain": [
       "country\n",
       "Russian Federation    1209742\n",
       "United States         1034013\n",
       "Japan                  806902\n",
       "France                 329127\n",
       "Ukraine                319950\n",
       "Germany                291262\n",
       "Republic of Korea      261730\n",
       "Brazil                 226613\n",
       "Poland                 139098\n",
       "United Kingdom         136805\n",
       "Italy                  132060\n",
       "Mexico                 111139\n",
       "Canada                 107561\n",
       "Thailand               106526\n",
       "Kazakhstan             101546\n",
       "Spain                  100202\n",
       "Argentina               82219\n",
       "Hungary                 72130\n",
       "Romania                 70824\n",
       "Australia               70111\n",
       "Name: suicides_no, dtype: int64"
      ]
     },
     "execution_count": 30,
     "metadata": {},
     "output_type": "execute_result"
    }
   ],
   "source": [
    "top20 = df.groupby(['country']).suicides_no.agg('sum').nlargest(20)\n",
    "top20"
   ]
  },
  {
   "cell_type": "code",
   "execution_count": 31,
   "metadata": {},
   "outputs": [],
   "source": [
    "avg_p = df.groupby('country-year').mean()[['population']]"
   ]
  },
  {
   "cell_type": "code",
   "execution_count": 32,
   "metadata": {},
   "outputs": [
    {
     "data": {
      "text/html": [
       "<div>\n",
       "<style scoped>\n",
       "    .dataframe tbody tr th:only-of-type {\n",
       "        vertical-align: middle;\n",
       "    }\n",
       "\n",
       "    .dataframe tbody tr th {\n",
       "        vertical-align: top;\n",
       "    }\n",
       "\n",
       "    .dataframe thead th {\n",
       "        text-align: right;\n",
       "    }\n",
       "</style>\n",
       "<table border=\"1\" class=\"dataframe\">\n",
       "  <thead>\n",
       "    <tr style=\"text-align: right;\">\n",
       "      <th></th>\n",
       "      <th>country</th>\n",
       "      <th>year</th>\n",
       "      <th>sex</th>\n",
       "      <th>age</th>\n",
       "      <th>suicides_no</th>\n",
       "      <th>population</th>\n",
       "      <th>suicides/100k pop</th>\n",
       "      <th>country-year</th>\n",
       "      <th>gdp_per_capita ($)</th>\n",
       "      <th>generation</th>\n",
       "      <th>age_encoder</th>\n",
       "      <th>sex_encoder</th>\n",
       "      <th>generation_encoder</th>\n",
       "    </tr>\n",
       "  </thead>\n",
       "  <tbody>\n",
       "    <tr>\n",
       "      <th>0</th>\n",
       "      <td>Albania</td>\n",
       "      <td>1987</td>\n",
       "      <td>male</td>\n",
       "      <td>15-24 years</td>\n",
       "      <td>21</td>\n",
       "      <td>312900</td>\n",
       "      <td>6.71</td>\n",
       "      <td>Albania1987</td>\n",
       "      <td>796</td>\n",
       "      <td>Generation X</td>\n",
       "      <td>1</td>\n",
       "      <td>1</td>\n",
       "      <td>3</td>\n",
       "    </tr>\n",
       "    <tr>\n",
       "      <th>1</th>\n",
       "      <td>Albania</td>\n",
       "      <td>1987</td>\n",
       "      <td>male</td>\n",
       "      <td>35-54 years</td>\n",
       "      <td>16</td>\n",
       "      <td>308000</td>\n",
       "      <td>5.19</td>\n",
       "      <td>Albania1987</td>\n",
       "      <td>796</td>\n",
       "      <td>Silent</td>\n",
       "      <td>3</td>\n",
       "      <td>1</td>\n",
       "      <td>1</td>\n",
       "    </tr>\n",
       "    <tr>\n",
       "      <th>2</th>\n",
       "      <td>Albania</td>\n",
       "      <td>1987</td>\n",
       "      <td>female</td>\n",
       "      <td>15-24 years</td>\n",
       "      <td>14</td>\n",
       "      <td>289700</td>\n",
       "      <td>4.83</td>\n",
       "      <td>Albania1987</td>\n",
       "      <td>796</td>\n",
       "      <td>Generation X</td>\n",
       "      <td>1</td>\n",
       "      <td>0</td>\n",
       "      <td>3</td>\n",
       "    </tr>\n",
       "    <tr>\n",
       "      <th>3</th>\n",
       "      <td>Albania</td>\n",
       "      <td>1987</td>\n",
       "      <td>male</td>\n",
       "      <td>75+ years</td>\n",
       "      <td>1</td>\n",
       "      <td>21800</td>\n",
       "      <td>4.59</td>\n",
       "      <td>Albania1987</td>\n",
       "      <td>796</td>\n",
       "      <td>G.I. Generation</td>\n",
       "      <td>5</td>\n",
       "      <td>1</td>\n",
       "      <td>0</td>\n",
       "    </tr>\n",
       "    <tr>\n",
       "      <th>4</th>\n",
       "      <td>Albania</td>\n",
       "      <td>1987</td>\n",
       "      <td>male</td>\n",
       "      <td>25-34 years</td>\n",
       "      <td>9</td>\n",
       "      <td>274300</td>\n",
       "      <td>3.28</td>\n",
       "      <td>Albania1987</td>\n",
       "      <td>796</td>\n",
       "      <td>Boomers</td>\n",
       "      <td>2</td>\n",
       "      <td>1</td>\n",
       "      <td>2</td>\n",
       "    </tr>\n",
       "  </tbody>\n",
       "</table>\n",
       "</div>"
      ],
      "text/plain": [
       "   country  year     sex          age  suicides_no  population  \\\n",
       "0  Albania  1987    male  15-24 years           21      312900   \n",
       "1  Albania  1987    male  35-54 years           16      308000   \n",
       "2  Albania  1987  female  15-24 years           14      289700   \n",
       "3  Albania  1987    male    75+ years            1       21800   \n",
       "4  Albania  1987    male  25-34 years            9      274300   \n",
       "\n",
       "   suicides/100k pop country-year  gdp_per_capita ($)       generation  \\\n",
       "0               6.71  Albania1987                 796     Generation X   \n",
       "1               5.19  Albania1987                 796           Silent   \n",
       "2               4.83  Albania1987                 796     Generation X   \n",
       "3               4.59  Albania1987                 796  G.I. Generation   \n",
       "4               3.28  Albania1987                 796          Boomers   \n",
       "\n",
       "   age_encoder  sex_encoder  generation_encoder  \n",
       "0            1            1                   3  \n",
       "1            3            1                   1  \n",
       "2            1            0                   3  \n",
       "3            5            1                   0  \n",
       "4            2            1                   2  "
      ]
     },
     "execution_count": 32,
     "metadata": {},
     "output_type": "execute_result"
    }
   ],
   "source": [
    "df.head()"
   ]
  },
  {
   "cell_type": "markdown",
   "metadata": {},
   "source": [
    "First we'll start by Linear Regression. We divide the dataset into testing and training dataset:"
   ]
  },
  {
   "cell_type": "code",
   "execution_count": 33,
   "metadata": {},
   "outputs": [
    {
     "data": {
      "text/plain": [
       "array(['Albania', 'Antigua and Barbuda', 'Argentina', 'Armenia', 'Aruba',\n",
       "       'Australia', 'Austria', 'Azerbaijan', 'Bahamas', 'Bahrain',\n",
       "       'Barbados', 'Belarus', 'Belgium', 'Belize',\n",
       "       'Bosnia and Herzegovina', 'Brazil', 'Bulgaria', 'Cabo Verde',\n",
       "       'Canada', 'Chile', 'Colombia', 'Costa Rica', 'Croatia', 'Cuba',\n",
       "       'Cyprus', 'Czech Republic', 'Denmark', 'Dominica', 'Ecuador',\n",
       "       'El Salvador', 'Estonia', 'Fiji', 'Finland', 'France', 'Georgia',\n",
       "       'Germany', 'Greece', 'Grenada', 'Guatemala', 'Guyana', 'Hungary',\n",
       "       'Iceland', 'Ireland', 'Israel', 'Italy', 'Jamaica', 'Japan',\n",
       "       'Kazakhstan', 'Kiribati', 'Kuwait', 'Kyrgyzstan', 'Latvia',\n",
       "       'Lithuania', 'Luxembourg', 'Macau', 'Maldives', 'Malta',\n",
       "       'Mauritius', 'Mexico', 'Montenegro', 'Netherlands', 'New Zealand',\n",
       "       'Nicaragua', 'Norway', 'Oman', 'Panama', 'Paraguay', 'Philippines',\n",
       "       'Poland', 'Portugal', 'Puerto Rico', 'Qatar', 'Republic of Korea',\n",
       "       'Romania', 'Russian Federation', 'Saint Kitts and Nevis',\n",
       "       'Saint Lucia', 'Saint Vincent and Grenadines', 'San Marino',\n",
       "       'Serbia', 'Seychelles', 'Singapore', 'Slovakia', 'Slovenia',\n",
       "       'South Africa', 'Spain', 'Sri Lanka', 'Suriname', 'Sweden',\n",
       "       'Switzerland', 'Thailand', 'Trinidad and Tobago', 'Turkey',\n",
       "       'Turkmenistan', 'Ukraine', 'United Arab Emirates',\n",
       "       'United Kingdom', 'United States', 'Uruguay', 'Uzbekistan'],\n",
       "      dtype=object)"
      ]
     },
     "execution_count": 33,
     "metadata": {},
     "output_type": "execute_result"
    }
   ],
   "source": [
    "df['country'].unique()"
   ]
  },
  {
   "cell_type": "code",
   "execution_count": 34,
   "metadata": {},
   "outputs": [],
   "source": [
    "country_coder={'Albania':1, 'Antigua and Barbuda':2, 'Argentina':3, 'Armenia':4, 'Aruba':5,\n",
    "       'Australia':6, 'Austria':7, 'Azerbaijan':8, 'Bahamas':9, 'Bahrain':10,\n",
    "       'Barbados':11, 'Belarus':12, 'Belgium':13, 'Belize':14,\n",
    "       'Bosnia and Herzegovina':15, 'Brazil':16, 'Bulgaria':17, 'Cabo Verde':18,\n",
    "       'Canada':19, 'Chile':20, 'Colombia':21, 'Costa Rica':22, 'Croatia':23, 'Cuba':24,\n",
    "       'Cyprus':25, 'Czech Republic':26, 'Denmark':27, 'Dominica':28, 'Ecuador':29,\n",
    "       'El Salvador':30, 'Estonia':31, 'Fiji':32, 'Finland':33, 'France':34, 'Georgia':35,\n",
    "       'Germany':36, 'Greece':37, 'Grenada':38, 'Guatemala':39, 'Guyana':40, 'Hungary':41,\n",
    "       'Iceland':42, 'Ireland':43, 'Israel':44, 'Italy':45, 'Jamaica':46, 'Japan':47,\n",
    "       'Kazakhstan':47, 'Kiribati':49, 'Kuwait':50, 'Kyrgyzstan':51, 'Latvia':52,\n",
    "       'Lithuania':53, 'Luxembourg':54, 'Macau':55, 'Maldives':56, 'Malta':57,\n",
    "       'Mauritius':58, 'Mexico':59, 'Montenegro':60, 'Netherlands':61, 'New Zealand':62,\n",
    "       'Nicaragua':63, 'Norway':64, 'Oman':65, 'Panama':66, 'Paraguay':67, 'Philippines':68,\n",
    "       'Poland':69, 'Portugal':70, 'Puerto Rico':71, 'Qatar':72, 'Republic of Korea':73,\n",
    "       'Romania':74, 'Russian Federation':75, 'Saint Kitts and Nevis':76,\n",
    "       'Saint Lucia':77, 'Saint Vincent and Grenadines':78, 'San Marino':79,\n",
    "       'Serbia':80, 'Seychelles':81, 'Singapore':82, 'Slovakia':83, 'Slovenia':84,\n",
    "       'South Africa':85, 'Spain':86, 'Sri Lanka':87, 'Suriname':88, 'Sweden':89,\n",
    "       'Switzerland':90, 'Thailand':91, 'Trinidad and Tobago':92, 'Turkey':93,\n",
    "       'Turkmenistan':94, 'Ukraine':95, 'United Arab Emirates':96,\n",
    "       'United Kingdom':97, 'United States':98, 'Uruguay':99, 'Uzbekistan':100}\n",
    "\n",
    "\n",
    "\n",
    "df['country_coder'] = df['country'].map(country_coder)\n"
   ]
  },
  {
   "cell_type": "code",
   "execution_count": 35,
   "metadata": {},
   "outputs": [
    {
     "name": "stdout",
     "output_type": "stream",
     "text": [
      "<class 'pandas.core.frame.DataFrame'>\n",
      "Int64Index: 27660 entries, 0 to 27819\n",
      "Data columns (total 14 columns):\n",
      "country               27660 non-null object\n",
      "year                  27660 non-null int64\n",
      "sex                   27660 non-null object\n",
      "age                   27660 non-null object\n",
      "suicides_no           27660 non-null int64\n",
      "population            27660 non-null int64\n",
      "suicides/100k pop     27660 non-null float64\n",
      "country-year          27660 non-null object\n",
      "gdp_per_capita ($)    27660 non-null int64\n",
      "generation            27660 non-null object\n",
      "age_encoder           27660 non-null int64\n",
      "sex_encoder           27660 non-null int64\n",
      "generation_encoder    27660 non-null int64\n",
      "country_coder         27660 non-null int64\n",
      "dtypes: float64(1), int64(8), object(5)\n",
      "memory usage: 3.2+ MB\n"
     ]
    }
   ],
   "source": [
    "df.info()"
   ]
  },
  {
   "cell_type": "markdown",
   "metadata": {},
   "source": [
    "# Regression"
   ]
  },
  {
   "cell_type": "code",
   "execution_count": 68,
   "metadata": {},
   "outputs": [],
   "source": [
    "from sklearn.linear_model import LinearRegression\n",
    "from sklearn.metrics import mean_squared_error, r2_score\n"
   ]
  },
  {
   "cell_type": "code",
   "execution_count": 48,
   "metadata": {},
   "outputs": [
    {
     "data": {
      "text/plain": [
       "['country',\n",
       " 'year',\n",
       " 'sex',\n",
       " 'age',\n",
       " 'suicides_no',\n",
       " 'population',\n",
       " 'suicides/100k pop',\n",
       " 'country-year',\n",
       " 'gdp_per_capita ($)',\n",
       " 'generation',\n",
       " 'age_encoder',\n",
       " 'sex_encoder',\n",
       " 'generation_encoder',\n",
       " 'country_coder']"
      ]
     },
     "execution_count": 48,
     "metadata": {},
     "output_type": "execute_result"
    }
   ],
   "source": [
    "list(df)"
   ]
  },
  {
   "cell_type": "code",
   "execution_count": 69,
   "metadata": {},
   "outputs": [],
   "source": [
    "Y = df[\"suicides/100k pop\"]\n",
    "X = df.drop(['country','sex','country-year','generation','age','suicides/100k pop'],axis=1)\n"
   ]
  },
  {
   "cell_type": "code",
   "execution_count": 70,
   "metadata": {},
   "outputs": [],
   "source": [
    "x_train, x_test, y_train, y_test = train_test_split(X,Y, test_size =0.3, random_state=42)"
   ]
  },
  {
   "cell_type": "markdown",
   "metadata": {},
   "source": [
    "## Linear regression"
   ]
  },
  {
   "cell_type": "code",
   "execution_count": 71,
   "metadata": {},
   "outputs": [
    {
     "name": "stdout",
     "output_type": "stream",
     "text": [
      "LINEAR REGRESSION:\n",
      "Accuracy Score is: 0.3634570860857021\n"
     ]
    }
   ],
   "source": [
    "reg = LinearRegression()\n",
    "reg.fit(x_train,y_train)\n",
    "ypred = reg.predict(x_test)\n",
    "acc_score = reg.score(x_test,y_test)\n",
    "print('LINEAR REGRESSION:')\n",
    "print('Accuracy Score is: {}'.format(acc_score))"
   ]
  },
  {
   "cell_type": "code",
   "execution_count": 72,
   "metadata": {},
   "outputs": [
    {
     "name": "stdout",
     "output_type": "stream",
     "text": [
      "Mean Squared Error:\n",
      "Value : 240.1334008194\n"
     ]
    }
   ],
   "source": [
    "print('Mean Squared Error:')\n",
    "print(('Value : %.10f' % mean_squared_error(y_test,ypred)))"
   ]
  },
  {
   "cell_type": "code",
   "execution_count": 73,
   "metadata": {},
   "outputs": [
    {
     "name": "stdout",
     "output_type": "stream",
     "text": [
      "                      importance\n",
      "sex_encoder         1.273113e+01\n",
      "age_encoder         4.957669e+00\n",
      "generation_encoder  1.873922e+00\n",
      "country_coder       2.852597e-02\n",
      "suicides_no         7.034171e-03\n",
      "gdp_per_capita ($)  9.325523e-06\n",
      "population         -9.031669e-07\n",
      "year               -2.037200e-01\n"
     ]
    }
   ],
   "source": [
    "feature_importances = pd.DataFrame(reg.coef_,index = x_train.columns,columns=['importance']).sort_values('importance',ascending=False)\n",
    "print(feature_importances)"
   ]
  },
  {
   "cell_type": "code",
   "execution_count": 74,
   "metadata": {},
   "outputs": [
    {
     "data": {
      "text/plain": [
       "Text(0, 0.5, 'Predictions')"
      ]
     },
     "execution_count": 74,
     "metadata": {},
     "output_type": "execute_result"
    },
    {
     "data": {
      "image/png": "[encoded data removed]",
      "text/plain": [
       "<Figure size 432x288 with 1 Axes>"
      ]
     },
     "metadata": {
      "needs_background": "light"
     },
     "output_type": "display_data"
    }
   ],
   "source": [
    "plt.scatter(y_test, ypred)\n",
    "plt.xlabel(\"True Vales\",)\n",
    "plt.ylabel(\"Predictions\")"
   ]
  },
  {
   "cell_type": "code",
   "execution_count": 76,
   "metadata": {},
   "outputs": [
    {
     "name": "stdout",
     "output_type": "stream",
     "text": [
      "Coefficients: \n",
      " [-2.03719998e-01  7.03417072e-03 -9.03166873e-07  9.32552289e-06\n",
      "  4.95766868e+00  1.27311296e+01  1.87392208e+00  2.85259659e-02]\n",
      "Variance score: 0.36\n"
     ]
    }
   ],
   "source": [
    "print('Coefficients: \\n', reg.coef_)\n",
    "# Explained variance score: 1 is perfect prediction\n",
    "print('Variance score: %.2f' % r2_score(y_test, ypred))"
   ]
  },
  {
   "cell_type": "code",
   "execution_count": 77,
   "metadata": {},
   "outputs": [],
   "source": [
    "y = df[\"age_encoder\"]\n",
    "x = df.drop(['country','sex_encoder','country-year','generation','age','sex','age_encoder'],axis=1)\n"
   ]
  },
  {
   "cell_type": "code",
   "execution_count": 57,
   "metadata": {},
   "outputs": [],
   "source": [
    "x_train1, x_test1, y_train1, y_test1 = train_test_split(x,y, test_size =0.3, random_state=42)"
   ]
  },
  {
   "cell_type": "code",
   "execution_count": 58,
   "metadata": {},
   "outputs": [
    {
     "name": "stdout",
     "output_type": "stream",
     "text": [
      "LINEAR REGRESSION:\n",
      "Accuracy Score is: 0.9434126004336512\n"
     ]
    }
   ],
   "source": [
    "reg = LinearRegression()\n",
    "reg.fit(x_train1,y_train1)\n",
    "ypred = reg.predict(x_test1)\n",
    "acc_score = reg.score(x_test1,y_test1)\n",
    "print('LINEAR REGRESSION:')\n",
    "print('Accuracy Score is: {}'.format(acc_score))"
   ]
  },
  {
   "cell_type": "code",
   "execution_count": 59,
   "metadata": {},
   "outputs": [
    {
     "name": "stdout",
     "output_type": "stream",
     "text": [
      "                      importance\n",
      "year                7.233341e-02\n",
      "suicides/100k pop   2.914927e-03\n",
      "suicides_no         2.670052e-06\n",
      "population         -2.219256e-09\n",
      "gdp_per_capita ($) -1.715424e-07\n",
      "country_coder      -1.211507e-04\n",
      "generation_encoder -1.230191e+00\n"
     ]
    }
   ],
   "source": [
    "feature_importances = pd.DataFrame(reg.coef_,index = x_train1.columns,columns=['importance']).sort_values('importance',ascending=False)\n",
    "print(feature_importances)"
   ]
  },
  {
   "cell_type": "code",
   "execution_count": 60,
   "metadata": {},
   "outputs": [
    {
     "data": {
      "text/plain": [
       "Text(0, 0.5, 'Predictions')"
      ]
     },
     "execution_count": 60,
     "metadata": {},
     "output_type": "execute_result"
    },
    {
     "data": {
      "image/png": "[encoded data removed]",
      "text/plain": [
       "<Figure size 432x288 with 1 Axes>"
      ]
     },
     "metadata": {
      "needs_background": "light"
     },
     "output_type": "display_data"
    }
   ],
   "source": [
    "plt.scatter(y_test, ypred)\n",
    "plt.xlabel(\"True Vales\",)\n",
    "plt.ylabel(\"Predictions\")"
   ]
  },
  {
   "cell_type": "markdown",
   "metadata": {},
   "source": [
    "### Linear regression setting can make the model extremely sensitive to noise in the data\n",
    "#### So, we'll try Random Forest Regressor algorithem"
   ]
  },
  {
   "cell_type": "markdown",
   "metadata": {},
   "source": [
    "## Random Forest Regressor"
   ]
  },
  {
   "cell_type": "code",
   "execution_count": 63,
   "metadata": {},
   "outputs": [
    {
     "name": "stderr",
     "output_type": "stream",
     "text": [
      "C:\\Users\\Aline\\Anaconda3\\lib\\site-packages\\sklearn\\ensemble\\forest.py:246: FutureWarning: The default value of n_estimators will change from 10 in version 0.20 to 100 in 0.22.\n",
      "  \"10 in version 0.20 to 100 in 0.22.\", FutureWarning)\n",
      "[Parallel(n_jobs=1)]: Using backend SequentialBackend with 1 concurrent workers.\n"
     ]
    },
    {
     "name": "stdout",
     "output_type": "stream",
     "text": [
      "Random Forest Regressor:\n",
      "Value : 0.9889458946\n",
      "                    importance\n",
      "population            0.456228\n",
      "suicides_no           0.453684\n",
      "sex_encoder           0.067771\n",
      "gdp_per_capita ($)    0.013678\n",
      "age_encoder           0.003600\n",
      "country_coder         0.002432\n",
      "year                  0.002039\n",
      "generation_encoder    0.000568\n"
     ]
    },
    {
     "name": "stderr",
     "output_type": "stream",
     "text": [
      "[Parallel(n_jobs=1)]: Done   8 out of   8 | elapsed:    3.8s finished\n"
     ]
    }
   ],
   "source": [
    "clf_rf.fit(x_train , y_train)\n",
    "accuracies = cross_val_score(estimator = clf_rf, X = x_train, y = y_train, cv = 8,verbose = 1)\n",
    "ypred = clf_rf.predict(x_test)\n",
    "\n",
    "print('Random Forest Regressor:')\n",
    "print('Value : %.10f' % clf_rf.score(x_test, y_test))\n",
    "\n",
    "feature_importances = pd.DataFrame(clf_rf.feature_importances_,index = x_train.columns,columns=['importance']).sort_values('importance',ascending=False)\n",
    "print(feature_importances)\n"
   ]
  },
  {
   "cell_type": "code",
   "execution_count": 64,
   "metadata": {},
   "outputs": [
    {
     "name": "stderr",
     "output_type": "stream",
     "text": [
      "C:\\Users\\Aline\\Anaconda3\\lib\\site-packages\\sklearn\\ensemble\\forest.py:246: FutureWarning: The default value of n_estimators will change from 10 in version 0.20 to 100 in 0.22.\n",
      "  \"10 in version 0.20 to 100 in 0.22.\", FutureWarning)\n",
      "[Parallel(n_jobs=1)]: Using backend SequentialBackend with 1 concurrent workers.\n"
     ]
    },
    {
     "name": "stdout",
     "output_type": "stream",
     "text": [
      "Random Forest Regressor:\n",
      "Value : 0.9879865585\n"
     ]
    },
    {
     "name": "stderr",
     "output_type": "stream",
     "text": [
      "[Parallel(n_jobs=1)]: Done   8 out of   8 | elapsed:    3.6s finished\n"
     ]
    }
   ],
   "source": [
    "from sklearn.ensemble import RandomForestRegressor\n",
    "from sklearn.model_selection import cross_val_score\n",
    "\n",
    "clf_rf = RandomForestRegressor()\n",
    "clf_rf.fit(x_train , y_train)\n",
    "accuracies = cross_val_score(estimator = clf_rf, X = x_train, y = y_train, cv = 8,verbose = 1)\n",
    "ypred = clf_rf.predict(x_test)\n",
    "\n",
    "print('Random Forest Regressor:')\n",
    "print('Value : %.10f' % clf_rf.score(x_test, y_test))\n",
    "#print(accuracies)"
   ]
  },
  {
   "cell_type": "code",
   "execution_count": 65,
   "metadata": {},
   "outputs": [
    {
     "name": "stdout",
     "output_type": "stream",
     "text": [
      "Mean Squared Error:\n",
      "Value : 4.5320252413\n"
     ]
    }
   ],
   "source": [
    "print('Mean Squared Error:')\n",
    "print(('Value : %.10f' % mean_squared_error(y_test,ypred)))"
   ]
  },
  {
   "cell_type": "code",
   "execution_count": 66,
   "metadata": {},
   "outputs": [
    {
     "name": "stdout",
     "output_type": "stream",
     "text": [
      "                    importance\n",
      "population            0.448212\n",
      "suicides_no           0.442480\n",
      "sex_encoder           0.069772\n",
      "gdp_per_capita ($)    0.014559\n",
      "age_encoder           0.011585\n",
      "generation_encoder    0.006892\n",
      "country_coder         0.003773\n",
      "year                  0.002727\n"
     ]
    }
   ],
   "source": [
    "feature_importances = pd.DataFrame(clf_rf.feature_importances_,index = x_train.columns,columns=['importance']).sort_values('importance',ascending=False)\n",
    "print(feature_importances)"
   ]
  },
  {
   "cell_type": "markdown",
   "metadata": {},
   "source": [
    "## Results of regression:\n",
    "* Linear regression : 36%\n",
    "* Random Forest Regressor : 99%"
   ]
  }
 ],
 "metadata": {
  "kernelspec": {
   "display_name": "Python 3",
   "language": "python",
   "name": "python3"
  },
  "language_info": {
   "codemirror_mode": {
    "name": "ipython",
    "version": 3
   },
   "file_extension": ".py",
   "mimetype": "text/x-python",
   "name": "python",
   "nbconvert_exporter": "python",
   "pygments_lexer": "ipython3",
   "version": "3.7.1"
  }
 },
 "nbformat": 4,
 "nbformat_minor": 2
}
